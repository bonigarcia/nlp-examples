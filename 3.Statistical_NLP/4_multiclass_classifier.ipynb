{
  "nbformat": 4,
  "nbformat_minor": 0,
  "metadata": {
    "colab": {
      "name": "4_multiclass_classifier.ipynb",
      "provenance": [],
      "collapsed_sections": []
    },
    "kernelspec": {
      "display_name": "Python 3",
      "name": "python3"
    }
  },
  "cells": [
    {
      "cell_type": "markdown",
      "metadata": {
        "id": "EiENgdmnk1Ly"
      },
      "source": [
        "**Multiclass classifier**"
      ]
    },
    {
      "cell_type": "code",
      "metadata": {
        "colab": {
          "base_uri": "https://localhost:8080/"
        },
        "id": "NwmyCVIzJoJ3",
        "outputId": "cf35340d-3fd5-491b-cda5-bfd36666f155"
      },
      "source": [
        "# Dataset\n",
        "\n",
        "from google.colab import drive\n",
        "from sklearn.datasets import load_files\n",
        "\n",
        "drive.mount(\"/content/drive\")\n",
        "\n",
        "# Raw data (BCC article datasets) obtained from the Insight Project\n",
        "# http://mlg.ucd.ie/datasets/bbc.html\n",
        "loaded_data = load_files(\"/content/drive/My Drive/data/bbc\")\n",
        "\n",
        "raw_dataset, y, y_names = loaded_data.data, loaded_data.target, loaded_data.target_names\n",
        "\n",
        "print(\"Number of documents in the dataset:\", len(raw_dataset))\n",
        "print(\"Labels (automatically generated from subfolder names):\")\n",
        "for label in y_names:\n",
        "  print(\"\\t\", label)"
      ],
      "execution_count": 3,
      "outputs": [
        {
          "output_type": "stream",
          "text": [
            "Drive already mounted at /content/drive; to attempt to forcibly remount, call drive.mount(\"/content/drive\", force_remount=True).\n",
            "Number of documents in the dataset: 2225\n",
            "Labels (automatically generated from subfolder names):\n",
            "\t business\n",
            "\t entertainment\n",
            "\t politics\n",
            "\t sport\n",
            "\t tech\n"
          ],
          "name": "stdout"
        }
      ]
    },
    {
      "cell_type": "code",
      "metadata": {
        "colab": {
          "base_uri": "https://localhost:8080/"
        },
        "id": "MIq3NwLtmuQs",
        "outputId": "f465171b-56a3-41e6-df63-5f9172f3173d"
      },
      "source": [
        "# Text preprocessing\n",
        "\n",
        "import nltk\n",
        "from nltk.tokenize import regexp_tokenize\n",
        "from nltk.stem.snowball import SnowballStemmer\n",
        "from nltk.corpus import stopwords\n",
        "nltk.download(\"stopwords\")\n",
        "\n",
        "dataset = []\n",
        "stemmer = SnowballStemmer(\"english\")\n",
        "stopwords_en = stopwords.words(\"english\")\n",
        "\n",
        "for i in range(0, len(raw_dataset)):\n",
        "  tokens = regexp_tokenize(str(raw_dataset[i]), r\"\\w+\")\n",
        "  stems = [stemmer.stem(token) for token in tokens]\n",
        "  words_no_stopwords = [word for word in stems if word not in stopwords_en]\n",
        "  document = ' '.join(words_no_stopwords)\n",
        "  dataset.append(document)"
      ],
      "execution_count": 4,
      "outputs": [
        {
          "output_type": "stream",
          "text": [
            "[nltk_data] Downloading package stopwords to /root/nltk_data...\n",
            "[nltk_data]   Unzipping corpora/stopwords.zip.\n"
          ],
          "name": "stdout"
        }
      ]
    },
    {
      "cell_type": "code",
      "metadata": {
        "id": "SbGTPsuPKO1K"
      },
      "source": [
        "# Feature extraction (converting text to vectors)\n",
        "\n",
        "from sklearn.feature_extraction.text import TfidfVectorizer\n",
        "\n",
        "vectorizer = TfidfVectorizer()\n",
        "\n",
        "X = vectorizer.fit_transform(dataset).toarray()"
      ],
      "execution_count": 5,
      "outputs": []
    },
    {
      "cell_type": "code",
      "metadata": {
        "id": "DrPRDDJ6LBFz"
      },
      "source": [
        "# Split training and testing sets\n",
        "\n",
        "from sklearn.model_selection import train_test_split\n",
        "\n",
        "X_train, X_test, y_train, y_test = train_test_split(X, y, test_size=0.2, random_state=0)"
      ],
      "execution_count": 6,
      "outputs": []
    },
    {
      "cell_type": "code",
      "metadata": {
        "id": "ayBmQFueLlOv"
      },
      "source": [
        "# Train model\n",
        "\n",
        "from sklearn.ensemble import RandomForestClassifier\n",
        "\n",
        "classifier = RandomForestClassifier()\n",
        "classifier.fit(X_train, y_train)\n",
        "y_pred = classifier.predict(X_test)"
      ],
      "execution_count": 7,
      "outputs": []
    },
    {
      "cell_type": "code",
      "metadata": {
        "colab": {
          "base_uri": "https://localhost:8080/"
        },
        "id": "LyaX_dXQL_gC",
        "outputId": "9b9e4d5f-a9f9-4200-9b23-da6cac793abf"
      },
      "source": [
        "# Model evaluation\n",
        "\n",
        "from sklearn.metrics import classification_report, confusion_matrix, accuracy_score\n",
        "\n",
        "print(confusion_matrix(y_test, y_pred))\n",
        "print(classification_report(y_test, y_pred))\n",
        "print(accuracy_score(y_test, y_pred))"
      ],
      "execution_count": 8,
      "outputs": [
        {
          "output_type": "stream",
          "text": [
            "[[ 97   0   2   0   3]\n",
            " [  2  80   1   1   0]\n",
            " [  4   0  73   1   0]\n",
            " [  0   0   0 103   0]\n",
            " [  0   2   0   0  76]]\n",
            "              precision    recall  f1-score   support\n",
            "\n",
            "           0       0.94      0.95      0.95       102\n",
            "           1       0.98      0.95      0.96        84\n",
            "           2       0.96      0.94      0.95        78\n",
            "           3       0.98      1.00      0.99       103\n",
            "           4       0.96      0.97      0.97        78\n",
            "\n",
            "    accuracy                           0.96       445\n",
            "   macro avg       0.96      0.96      0.96       445\n",
            "weighted avg       0.96      0.96      0.96       445\n",
            "\n",
            "0.9640449438202248\n"
          ],
          "name": "stdout"
        }
      ]
    },
    {
      "cell_type": "code",
      "metadata": {
        "colab": {
          "base_uri": "https://localhost:8080/"
        },
        "id": "kDI4yLKQVgGW",
        "outputId": "7f11fa4e-0d87-49d0-bb6c-44d1ed61bf76"
      },
      "source": [
        "# Predict unseen data\n",
        "\n",
        "unseen_sentence = input(\"Enter a sentence: \")\n",
        "X_unseen = vectorizer.transform([unseen_sentence]).toarray()\n",
        "y_unseen = classifier.predict(X_unseen)\n",
        "\n",
        "print(\"The pedicted class for that sentence is:\", y_names[y_unseen[0]])"
      ],
      "execution_count": 9,
      "outputs": [
        {
          "output_type": "stream",
          "text": [
            "Enter a sentence: Messi scores a goal\n",
            "The pedicted class for that sentence is: sport\n"
          ],
          "name": "stdout"
        }
      ]
    },
    {
      "cell_type": "code",
      "metadata": {
        "id": "lU8jMHMSVUeX",
        "colab": {
          "base_uri": "https://localhost:8080/"
        },
        "outputId": "04f5d495-c055-45fb-a97a-5e5e30fbc330"
      },
      "source": [
        "# Model serialization\n",
        "\n",
        "import pickle\n",
        "\n",
        "with open(\"multiclass_classifier.pickle\", \"wb\") as pickle_file:\n",
        "  pickle.dump(classifier, pickle_file)\n",
        "\n",
        "with open(\"multiclass_classifier.pickle\", \"rb\") as serialized_model:\n",
        "  loaded_model = pickle.load(serialized_model)\n",
        "\n",
        "y_pred2 = loaded_model.predict(X_test)\n",
        "\n",
        "print(confusion_matrix(y_test, y_pred2))\n",
        "print(classification_report(y_test, y_pred2))\n",
        "print(accuracy_score(y_test, y_pred2)) "
      ],
      "execution_count": 11,
      "outputs": [
        {
          "output_type": "stream",
          "text": [
            "[[ 97   0   2   0   3]\n",
            " [  2  80   1   1   0]\n",
            " [  4   0  73   1   0]\n",
            " [  0   0   0 103   0]\n",
            " [  0   2   0   0  76]]\n",
            "              precision    recall  f1-score   support\n",
            "\n",
            "           0       0.94      0.95      0.95       102\n",
            "           1       0.98      0.95      0.96        84\n",
            "           2       0.96      0.94      0.95        78\n",
            "           3       0.98      1.00      0.99       103\n",
            "           4       0.96      0.97      0.97        78\n",
            "\n",
            "    accuracy                           0.96       445\n",
            "   macro avg       0.96      0.96      0.96       445\n",
            "weighted avg       0.96      0.96      0.96       445\n",
            "\n",
            "0.9640449438202248\n"
          ],
          "name": "stdout"
        }
      ]
    }
  ]
}