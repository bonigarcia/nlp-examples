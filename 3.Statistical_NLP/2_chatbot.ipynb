{
  "nbformat": 4,
  "nbformat_minor": 0,
  "metadata": {
    "colab": {
      "name": "2_chatbot.ipynb",
      "provenance": [],
      "collapsed_sections": []
    },
    "kernelspec": {
      "name": "python3",
      "display_name": "Python 3"
    }
  },
  "cells": [
    {
      "cell_type": "markdown",
      "metadata": {
        "id": "BK9vbZjyEx_V"
      },
      "source": [
        "**Basic chatbot**"
      ]
    },
    {
      "cell_type": "code",
      "metadata": {
        "id": "-DuLjB1hEzgU",
        "colab": {
          "base_uri": "https://localhost:8080/"
        },
        "outputId": "34ff77b0-7790-473e-efdb-28000f8bc7cb"
      },
      "source": [
        "import ast\n",
        "from google.colab import drive\n",
        "\n",
        "questions = []\n",
        "answers = []\n",
        "drive.mount('/content/drive')\n",
        "\n",
        "with open('/content/drive/My Drive/qa_Electronics.json') as f:\n",
        "   for line in f:\n",
        "     data = ast.literal_eval(line)\n",
        "     questions.append(data['question'].lower())\n",
        "     answers.append(data['answer'].lower())"
      ],
      "execution_count": 9,
      "outputs": [
        {
          "output_type": "stream",
          "text": [
            "Mounted at /content/drive\n"
          ],
          "name": "stdout"
        }
      ]
    },
    {
      "cell_type": "code",
      "metadata": {
        "id": "LUqVmIvkJNSV"
      },
      "source": [
        "from sklearn.feature_extraction.text import TfidfVectorizer\n",
        "import numpy as np\n",
        "from sklearn.metrics.pairwise import cosine_similarity\n",
        "\n",
        "vectorizer = TfidfVectorizer(stop_words=\"english\")\n",
        "questions_tf_idf_matrix = vectorizer.fit_transform(questions)\n",
        "\n",
        "def conversation(user_input):\n",
        "   global vectorizer, answers, questions_tf_idf_matrix\n",
        "\n",
        "   user_input_tf_idf_matrix = vectorizer.transform(user_input)\n",
        "   similarity_matrix = cosine_similarity(user_input_tf_idf_matrix, questions_tf_idf_matrix)\n",
        "   max_similarity = np.amax(similarity_matrix)\n",
        "   angle = np.rad2deg(np.arccos(max_similarity))\n",
        "\n",
        "   if angle > 60:\n",
        "      return \"sorry, I did not quite understand that\"\n",
        "   else:\n",
        "      index_max_similarity = np.argmax(similarity_matrix)\n",
        "      return answers[index_max_similarity]\n",
        "\n",
        "def main():\n",
        "   usr = input(\"Please enter your username: \")\n",
        "   print(\"Q&A support: Hi, welcome to Q&A support. How can I help you?\")\n",
        "   while True:\n",
        "      user_input = input(\"{}: \".format(usr))\n",
        "      if user_input.lower() == \"bye\":\n",
        "         print(\"Q&A support: bye!\")\n",
        "         break\n",
        "      else:\n",
        "         print(\"Q&A support: \" + conversation([user_input]))"
      ],
      "execution_count": 17,
      "outputs": []
    },
    {
      "cell_type": "code",
      "metadata": {
        "id": "Fr5LcJGbJh7k"
      },
      "source": [
        "main()"
      ],
      "execution_count": null,
      "outputs": []
    }
  ]
}