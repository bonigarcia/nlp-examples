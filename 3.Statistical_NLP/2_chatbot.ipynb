{
  "nbformat": 4,
  "nbformat_minor": 0,
  "metadata": {
    "colab": {
      "name": "2_chatbot.ipynb",
      "provenance": [],
      "collapsed_sections": []
    },
    "kernelspec": {
      "display_name": "Python 3",
      "name": "python3"
    }
  },
  "cells": [
    {
      "cell_type": "markdown",
      "metadata": {
        "id": "BK9vbZjyEx_V"
      },
      "source": [
        "**Basic chatbot**"
      ]
    },
    {
      "cell_type": "code",
      "metadata": {
        "colab": {
          "base_uri": "https://localhost:8080/"
        },
        "id": "-DuLjB1hEzgU",
        "outputId": "91c0f083-84b5-4916-f975-e81d6ea65fe7"
      },
      "source": [
        "import ast\n",
        "from google.colab import drive\n",
        "\n",
        "questions = []\n",
        "answers = []\n",
        "drive.mount(\"/content/drive\")\n",
        "\n",
        "with open(\"/content/drive/My Drive/Colab Notebooks/data/qa_Electronics.json\") as f:\n",
        "  for line in f:\n",
        "    data = ast.literal_eval(line)\n",
        "    questions.append(data[\"question\"].lower())\n",
        "    answers.append(data[\"answer\"].lower())"
      ],
      "execution_count": null,
      "outputs": [
        {
          "output_type": "stream",
          "text": [
            "Mounted at /content/drive\n"
          ],
          "name": "stdout"
        }
      ]
    },
    {
      "cell_type": "code",
      "metadata": {
        "id": "LUqVmIvkJNSV"
      },
      "source": [
        "from sklearn.feature_extraction.text import TfidfVectorizer\n",
        "import numpy as np\n",
        "from sklearn.metrics.pairwise import cosine_similarity\n",
        "\n",
        "vectorizer = TfidfVectorizer(stop_words=\"english\")\n",
        "X_questions = vectorizer.fit_transform(questions)\n",
        "\n",
        "def conversation(user_input):\n",
        "  global vectorizer, answers, X_questions\n",
        "\n",
        "  X_user_input = vectorizer.transform(user_input)\n",
        "  similarity_matrix = cosine_similarity(X_user_input, X_questions)\n",
        "  max_similarity = np.amax(similarity_matrix)\n",
        "  angle = np.rad2deg(np.arccos(max_similarity))\n",
        "\n",
        "  if angle > 60:\n",
        "    return \"sorry, I did not quite understand that\"\n",
        "  else:\n",
        "    index_max_similarity = np.argmax(similarity_matrix)\n",
        "    return answers[index_max_similarity]\n",
        "\n",
        "def main():\n",
        "  usr = input(\"Please enter your username: \")\n",
        "  print(\"Q&A support: Hi, welcome to Q&A support. How can I help you?\")\n",
        "  while True:\n",
        "    user_input = input(\"{}: \".format(usr))\n",
        "    if user_input.lower() == \"bye\":\n",
        "      print(\"Q&A support: bye!\")\n",
        "      break\n",
        "    else:\n",
        "      print(\"Q&A support: \" + conversation([user_input]))"
      ],
      "execution_count": null,
      "outputs": []
    },
    {
      "cell_type": "code",
      "metadata": {
        "colab": {
          "background_save": true,
          "base_uri": "https://localhost:8080/"
        },
        "id": "Fr5LcJGbJh7k",
        "outputId": "3b62464b-f24c-4f2c-bb50-378215e781e9"
      },
      "source": [
        "main()"
      ],
      "execution_count": null,
      "outputs": [
        {
          "output_type": "stream",
          "text": [
            "Please enter your username: pepe\n",
            "Q&A support: Hi, welcome to Q&A support. How can I help you?\n",
            "pepe: iphone\n",
            "Q&A support: it does not plug into an iphone. i love this plantronic headset, quality wonderful. i bought an adapter that fit the iphone but the sound quality was bad so i now use the white ear bud thing that came with the iphone. i have small ears so those things hurt when i use them for a long time. i don't recommend the plantronics headset with an iphone.\n"
          ],
          "name": "stdout"
        }
      ]
    }
  ]
}