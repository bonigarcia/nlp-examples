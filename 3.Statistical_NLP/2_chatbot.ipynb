{
  "nbformat": 4,
  "nbformat_minor": 0,
  "metadata": {
    "colab": {
      "name": "2_chatbot.ipynb",
      "provenance": [],
      "collapsed_sections": []
    },
    "kernelspec": {
      "display_name": "Python 3",
      "name": "python3"
    }
  },
  "cells": [
    {
      "cell_type": "markdown",
      "metadata": {
        "id": "BK9vbZjyEx_V"
      },
      "source": [
        "**Basic chatbot**"
      ]
    },
    {
      "cell_type": "code",
      "metadata": {
        "colab": {
          "base_uri": "https://localhost:8080/"
        },
        "id": "-DuLjB1hEzgU",
        "outputId": "97f4a838-6ea9-45f6-b1db-9d409b4158e4"
      },
      "source": [
        "import ast\n",
        "from google.colab import drive\n",
        "\n",
        "questions = []\n",
        "answers = []\n",
        "drive.mount(\"/content/drive\")\n",
        "\n",
        "with open(\"/content/drive/My Drive/data/chatbot/qa_Electronics.json\") as f:\n",
        "  for line in f:\n",
        "    data = ast.literal_eval(line)\n",
        "    questions.append(data[\"question\"].lower())\n",
        "    answers.append(data[\"answer\"].lower())"
      ],
      "execution_count": 2,
      "outputs": [
        {
          "output_type": "stream",
          "text": [
            "Drive already mounted at /content/drive; to attempt to forcibly remount, call drive.mount(\"/content/drive\", force_remount=True).\n"
          ],
          "name": "stdout"
        }
      ]
    },
    {
      "cell_type": "code",
      "metadata": {
        "id": "LUqVmIvkJNSV"
      },
      "source": [
        "from sklearn.feature_extraction.text import TfidfVectorizer\n",
        "import numpy as np\n",
        "from sklearn.metrics.pairwise import cosine_similarity\n",
        "\n",
        "vectorizer = TfidfVectorizer(stop_words=\"english\")\n",
        "X_questions = vectorizer.fit_transform(questions)\n",
        "\n",
        "def conversation(user_input):\n",
        "  global vectorizer, answers, X_questions\n",
        "\n",
        "  X_user_input = vectorizer.transform(user_input)\n",
        "  similarity_matrix = cosine_similarity(X_user_input, X_questions)\n",
        "  max_similarity = np.amax(similarity_matrix)\n",
        "  angle = np.rad2deg(np.arccos(max_similarity))\n",
        "\n",
        "  if angle > 60:\n",
        "    return \"sorry, I did not quite understand that\"\n",
        "  else:\n",
        "    index_max_similarity = np.argmax(similarity_matrix)\n",
        "    return answers[index_max_similarity]\n",
        "\n",
        "def main():\n",
        "  usr = input(\"Please enter your username: \")\n",
        "  print(\"Q&A support: Hi, welcome to Q&A support. How can I help you?\")\n",
        "  while True:\n",
        "    user_input = input(\"{}: \".format(usr))\n",
        "    if user_input.lower() == \"bye\":\n",
        "      print(\"Q&A support: bye!\")\n",
        "      break\n",
        "    else:\n",
        "      print(\"Q&A support: \" + conversation([user_input]))"
      ],
      "execution_count": 3,
      "outputs": []
    },
    {
      "cell_type": "code",
      "metadata": {
        "colab": {
          "base_uri": "https://localhost:8080/"
        },
        "id": "Fr5LcJGbJh7k",
        "outputId": "6495254a-60f8-4d25-f930-031cf347c5a3"
      },
      "source": [
        "main()"
      ],
      "execution_count": null,
      "outputs": [
        {
          "output_type": "stream",
          "text": [
            "Please enter your username: pepe\n",
            "Q&A support: Hi, welcome to Q&A support. How can I help you?\n",
            "pepe: I want to buy an iPhone\n",
            "Q&A support: i am sure amazon has all types.\n"
          ],
          "name": "stdout"
        }
      ]
    }
  ]
}