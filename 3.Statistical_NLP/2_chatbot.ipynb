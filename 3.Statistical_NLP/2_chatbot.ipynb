{
  "nbformat": 4,
  "nbformat_minor": 0,
  "metadata": {
    "colab": {
      "name": "2_chatbot.ipynb",
      "provenance": [],
      "collapsed_sections": []
    },
    "kernelspec": {
      "name": "python3",
      "display_name": "Python 3"
    }
  },
  "cells": [
    {
      "cell_type": "markdown",
      "metadata": {
        "id": "BK9vbZjyEx_V"
      },
      "source": [
        "**Basic chatbot**"
      ]
    },
    {
      "cell_type": "code",
      "metadata": {
        "id": "-DuLjB1hEzgU",
        "colab": {
          "base_uri": "https://localhost:8080/"
        },
        "outputId": "91670354-d08d-4160-f1c7-9794f1498133"
      },
      "source": [
        "import ast\n",
        "from google.colab import drive\n",
        "\n",
        "questions = []\n",
        "answers = []\n",
        "drive.mount('/content/drive')\n",
        "\n",
        "with open('/content/drive/My Drive/qa_Electronics.json') as f:\n",
        "   for line in f:\n",
        "     data = ast.literal_eval(line)\n",
        "     questions.append(data['question'].lower())\n",
        "     answers.append(data['answer'].lower())"
      ],
      "execution_count": null,
      "outputs": [
        {
          "output_type": "stream",
          "text": [
            "Drive already mounted at /content/drive; to attempt to forcibly remount, call drive.mount(\"/content/drive\", force_remount=True).\n"
          ],
          "name": "stdout"
        }
      ]
    },
    {
      "cell_type": "code",
      "metadata": {
        "id": "LUqVmIvkJNSV"
      },
      "source": [
        "from sklearn.feature_extraction.text import TfidfVectorizer\n",
        "import numpy as np\n",
        "from sklearn.metrics.pairwise import cosine_similarity\n",
        "\n",
        "vectorizer = TfidfVectorizer(stop_words=\"english\")\n",
        "questions_tf_idf_matrix = vectorizer.fit_transform(questions)\n",
        "\n",
        "def conversation(user_input):\n",
        "   global vectorizer, answers, questions_tf_idf_matrix\n",
        "   user_input_tf_idf_matrix = vectorizer.transform(user_input)\n",
        "\n",
        "   print(\"user_input_tf_idf_matrix.shape\", user_input_tf_idf_matrix.shape)\n",
        "   print(\"questions_tf_idf_matrix.shape\", questions_tf_idf_matrix.shape)\n",
        "\n",
        "   similarity_vector = cosine_similarity(user_input_tf_idf_matrix, questions_tf_idf_matrix)[0]\n",
        "\n",
        "   max_similarity = max(similarity_vector)\n",
        "   angle = np.rad2deg(np.arccos(max_similarity))\n",
        "   if angle > 60 :\n",
        "      return \"sorry, I did not quite understand that\"\n",
        "   else:\n",
        "      index_max_similarity = np.argmax(similarity_vector)\n",
        "      return answers[index_max_similarity]\n",
        "\n",
        "def main():\n",
        "   usr = input(\"Please enter your username: \")\n",
        "   print(\"Q&A support: Hi, welcome to Q&A support. How can I help you?\")\n",
        "   while True:\n",
        "      user_input = input(\"{}: \".format(usr))\n",
        "      if user_input.lower() == \"bye\":\n",
        "         print(\"Q&A support: bye!\")\n",
        "          break\n",
        "       else:\n",
        "          print(\"Q&A support: \" + conversation([user_input]))"
      ],
      "execution_count": null,
      "outputs": []
    },
    {
      "cell_type": "code",
      "metadata": {
        "id": "Fr5LcJGbJh7k",
        "colab": {
          "base_uri": "https://localhost:8080/"
        },
        "outputId": "3cf82c95-81c0-4cad-b5fa-4a8e9deb66b2"
      },
      "source": [
        "main()"
      ],
      "execution_count": null,
      "outputs": [
        {
          "output_type": "stream",
          "text": [
            "Please enter your username: pepe\n",
            "Q&A support: Hi, welcome to Q&A support. How can I help you?\n",
            "pepe: hello\n",
            "user_input_tf_idf_matrix.shape (1, 69189)\n",
            "questions_tf_idf_matrix.shape (314263, 69189)\n",
            "Q&A support: this radio is very poor quality very disappoint with it\n"
          ],
          "name": "stdout"
        }
      ]
    }
  ]
}