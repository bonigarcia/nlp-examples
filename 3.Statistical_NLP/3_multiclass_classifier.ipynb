{
  "nbformat": 4,
  "nbformat_minor": 0,
  "metadata": {
    "colab": {
      "name": "3_multiclass_classifier.ipynb",
      "provenance": [],
      "collapsed_sections": []
    },
    "kernelspec": {
      "display_name": "Python 3",
      "name": "python3"
    }
  },
  "cells": [
    {
      "cell_type": "markdown",
      "metadata": {
        "id": "EiENgdmnk1Ly"
      },
      "source": [
        "**Multiclass classifier**"
      ]
    },
    {
      "cell_type": "code",
      "metadata": {
        "colab": {
          "base_uri": "https://localhost:8080/"
        },
        "id": "NwmyCVIzJoJ3",
        "outputId": "e3921689-6236-4c9f-91ec-8f3ab9384658"
      },
      "source": [
        "# Importing dataset and labels\n",
        "\n",
        "from google.colab import drive\n",
        "from sklearn.datasets import load_files\n",
        "\n",
        "drive.mount(\"/content/drive\", force_remount=True)\n",
        "\n",
        "# Raw data (BCC article datasets) obtained from the Insight Project\n",
        "# http://mlg.ucd.ie/datasets/bbc.html\n",
        "loaded_data = load_files(\"/content/drive/My Drive/Colab Notebooks/data/bbc\")\n",
        "\n",
        "# We typically use the variable name \"y\" for labels (aka classes, categories, or tags)\n",
        "raw_dataset, y, y_names = loaded_data.data, loaded_data.target, loaded_data.target_names\n",
        "\n",
        "print(\"Number of documents in the dataset:\", len(raw_dataset))\n",
        "print(\"Labels:\")\n",
        "for label in y_names:\n",
        "  print(\"\\t\", label)"
      ],
      "execution_count": null,
      "outputs": [
        {
          "output_type": "stream",
          "text": [
            "Mounted at /content/drive\n"
          ],
          "name": "stdout"
        }
      ]
    },
    {
      "cell_type": "code",
      "metadata": {
        "colab": {
          "base_uri": "https://localhost:8080/"
        },
        "id": "MIq3NwLtmuQs",
        "outputId": "40b6bd37-7842-4196-c3e2-75d72361532e"
      },
      "source": [
        "# Text preprocessing\n",
        "\n",
        "import nltk\n",
        "from nltk.tokenize import regexp_tokenize\n",
        "from nltk.stem.snowball import SnowballStemmer\n",
        "from nltk.corpus import stopwords\n",
        "nltk.download(\"stopwords\")\n",
        "\n",
        "dataset = []\n",
        "stemmer = SnowballStemmer(\"english\")\n",
        "stopwords_en = stopwords.words(\"english\")\n",
        "\n",
        "for i in range(0, len(raw_dataset)):\n",
        "  tokens = regexp_tokenize(str(raw_dataset[i]), r\"\\w+\")\n",
        "  stems = [stemmer.stem(token) for token in tokens]\n",
        "  words_no_stopwords = [word for word in stems if word not in stopwords_en]\n",
        "  document = ' '.join(words_no_stopwords)\n",
        "  dataset.append(document)"
      ],
      "execution_count": null,
      "outputs": [
        {
          "output_type": "stream",
          "text": [
            "[nltk_data] Downloading package stopwords to /root/nltk_data...\n",
            "[nltk_data]   Unzipping corpora/stopwords.zip.\n"
          ],
          "name": "stdout"
        }
      ]
    },
    {
      "cell_type": "code",
      "metadata": {
        "id": "SbGTPsuPKO1K"
      },
      "source": [
        "# Feature extraction (converting text to vectors)\n",
        "\n",
        "from sklearn.feature_extraction.text import TfidfVectorizer\n",
        "\n",
        "vectorizer = TfidfVectorizer()\n",
        "\n",
        "# We typically use the variable name \"X\" for features\n",
        "X = vectorizer.fit_transform(dataset).toarray()"
      ],
      "execution_count": null,
      "outputs": []
    },
    {
      "cell_type": "code",
      "metadata": {
        "id": "DrPRDDJ6LBFz"
      },
      "source": [
        "# Split training and testing sets\n",
        "\n",
        "from sklearn.model_selection import train_test_split\n",
        "\n",
        "X_train, X_test, y_train, y_test = train_test_split(X, y, test_size=0.2, random_state=0)"
      ],
      "execution_count": null,
      "outputs": []
    },
    {
      "cell_type": "code",
      "metadata": {
        "id": "ayBmQFueLlOv"
      },
      "source": [
        "# Training model\n",
        "\n",
        "from sklearn.ensemble import RandomForestClassifier\n",
        "\n",
        "classifier = RandomForestClassifier()\n",
        "classifier.fit(X_train, y_train)\n",
        "y_pred = classifier.predict(X_test)"
      ],
      "execution_count": null,
      "outputs": []
    },
    {
      "cell_type": "code",
      "metadata": {
        "colab": {
          "base_uri": "https://localhost:8080/"
        },
        "id": "LyaX_dXQL_gC",
        "outputId": "1202696f-6a3d-4708-ea3e-9440bfdb48a8"
      },
      "source": [
        "# Model evaluation\n",
        "\n",
        "from sklearn.metrics import classification_report, confusion_matrix, accuracy_score\n",
        "\n",
        "print(confusion_matrix(y_test, y_pred))\n",
        "print(classification_report(y_test, y_pred))\n",
        "print(accuracy_score(y_test, y_pred))"
      ],
      "execution_count": null,
      "outputs": [
        {
          "output_type": "stream",
          "text": [
            "[[ 97   0   2   0   3]\n",
            " [  2  80   0   1   1]\n",
            " [  3   0  74   1   0]\n",
            " [  1   0   0 102   0]\n",
            " [  0   1   0   1  76]]\n",
            "              precision    recall  f1-score   support\n",
            "\n",
            "           0       0.94      0.95      0.95       102\n",
            "           1       0.99      0.95      0.97        84\n",
            "           2       0.97      0.95      0.96        78\n",
            "           3       0.97      0.99      0.98       103\n",
            "           4       0.95      0.97      0.96        78\n",
            "\n",
            "    accuracy                           0.96       445\n",
            "   macro avg       0.96      0.96      0.96       445\n",
            "weighted avg       0.96      0.96      0.96       445\n",
            "\n",
            "0.9640449438202248\n"
          ],
          "name": "stdout"
        }
      ]
    },
    {
      "cell_type": "code",
      "metadata": {
        "colab": {
          "base_uri": "https://localhost:8080/"
        },
        "id": "kDI4yLKQVgGW",
        "outputId": "2709772a-988d-4113-90d8-4ed0f7e3c4ec"
      },
      "source": [
        "# Predict unseen data\n",
        "\n",
        "unseen_sentence = input(\"Enter a sentence: \")\n",
        "X_unseen = vectorizer.transform([unseen_sentence]).toarray()\n",
        "y_unseen = classifier.predict(X_unseen)\n",
        "\n",
        "print(\"The pedicted class for that sentence is:\", y_names[y_unseen[0]])"
      ],
      "execution_count": null,
      "outputs": [
        {
          "output_type": "stream",
          "text": [
            "Enter a sentence:Messi scores a goal\n",
            "The prediction label for that sentence is: sport\n"
          ],
          "name": "stdout"
        }
      ]
    },
    {
      "cell_type": "code",
      "metadata": {
        "id": "lU8jMHMSVUeX"
      },
      "source": [
        "# Model serialization\n",
        "\n",
        "import pickle\n",
        "\n",
        "with open('multiclass_classifier.pickle', 'wb') as pickle_file:\n",
        "  pickle.dump(classifier, pickle_file)\n",
        "\n",
        "with open('multiclass_classifier.pickle', 'rb') as serialized_model:\n",
        "  loaded_model = pickle.load(serialized_model)\n",
        "\n",
        "y_pred2 = loaded_model.predict(X_test)\n",
        "\n",
        "print(confusion_matrix(y_test, y_pred2))\n",
        "print(classification_report(y_test, y_pred2))\n",
        "print(accuracy_score(y_test, y_pred2)) "
      ],
      "execution_count": null,
      "outputs": []
    }
  ]
}