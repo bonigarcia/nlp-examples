{
  "nbformat": 4,
  "nbformat_minor": 0,
  "metadata": {
    "colab": {
      "name": "1_text_representation.ipynb",
      "provenance": [],
      "collapsed_sections": []
    },
    "kernelspec": {
      "name": "python3",
      "display_name": "Python 3"
    }
  },
  "cells": [
    {
      "cell_type": "markdown",
      "metadata": {
        "id": "ppuLo7st1EdS"
      },
      "source": [
        "**Bag of Words**"
      ]
    },
    {
      "cell_type": "code",
      "metadata": {
        "id": "vdJCz7w56N9I",
        "colab": {
          "base_uri": "https://localhost:8080/"
        },
        "outputId": "c472c222-2ca7-4772-cd43-dc9665248ed2"
      },
      "source": [
        "from sklearn.feature_extraction.text import CountVectorizer\n",
        "\n",
        "corpus = [\"Computers can analyze text\", \"They do it using vectors and matrices\", \"Computers can process massive amounts of text data\"]\n",
        "\n",
        "vectorizer = CountVectorizer(stop_words=\"english\")\n",
        "bow_matrix = vectorizer.fit_transform(corpus)\n",
        "\n",
        "print(\"Vocabulary\", vectorizer.vocabulary_)\n",
        "print(\"Feature names\", vectorizer.get_feature_names())\n",
        "print(\"BoW matrix\", bow_matrix.toarray())\n",
        "print(\"BoW matrix shape\", bow_matrix.shape)"
      ],
      "execution_count": null,
      "outputs": [
        {
          "output_type": "stream",
          "text": [
            "Vocabulary {'computers': 2, 'analyze': 1, 'text': 7, 'using': 8, 'vectors': 9, 'matrices': 5, 'process': 6, 'massive': 4, 'amounts': 0, 'data': 3}\n",
            "Feature names ['amounts', 'analyze', 'computers', 'data', 'massive', 'matrices', 'process', 'text', 'using', 'vectors']\n",
            "BoW matrix [[0 1 1 0 0 0 0 1 0 0]\n",
            " [0 0 0 0 0 1 0 0 1 1]\n",
            " [1 0 1 1 1 0 1 1 0 0]]\n",
            "BoW matrix shape (3, 10)\n"
          ],
          "name": "stdout"
        }
      ]
    },
    {
      "cell_type": "markdown",
      "metadata": {
        "id": "iBewhUpEI1mX"
      },
      "source": [
        "**TF-IDF**"
      ]
    },
    {
      "cell_type": "code",
      "metadata": {
        "id": "zwsjQ1s2I3A1",
        "colab": {
          "base_uri": "https://localhost:8080/"
        },
        "outputId": "380f8268-178a-4770-8289-00b1876bc2ef"
      },
      "source": [
        "from sklearn.feature_extraction.text import TfidfVectorizer\n",
        "\n",
        "vectorizer = TfidfVectorizer(stop_words=\"english\")\n",
        "tf_idf_matrix = vectorizer.fit_transform(corpus)\n",
        "\n",
        "print(\"Corpus\", corpus)\n",
        "print(\"Feature names\", vectorizer.get_feature_names())\n",
        "print(\"TF-IDF matrix\", tf_idf_matrix.toarray())"
      ],
      "execution_count": null,
      "outputs": [
        {
          "output_type": "stream",
          "text": [
            "Corpus ['Computers can analyze text', 'They do it using vectors and matrices', 'Computers can process massive amounts of text data']\n",
            "Feature names ['amounts', 'analyze', 'computers', 'data', 'massive', 'matrices', 'process', 'text', 'using', 'vectors']\n",
            "TF-IDF matrix [[0.         0.68091856 0.51785612 0.         0.         0.\n",
            "  0.         0.51785612 0.         0.        ]\n",
            " [0.         0.         0.         0.         0.         0.57735027\n",
            "  0.         0.         0.57735027 0.57735027]\n",
            " [0.44036207 0.         0.3349067  0.44036207 0.44036207 0.\n",
            "  0.44036207 0.3349067  0.         0.        ]]\n"
          ],
          "name": "stdout"
        }
      ]
    },
    {
      "cell_type": "markdown",
      "metadata": {
        "id": "gOkRgZA8RvMG"
      },
      "source": [
        "**Cosine similarity**"
      ]
    },
    {
      "cell_type": "code",
      "metadata": {
        "colab": {
          "base_uri": "https://localhost:8080/"
        },
        "id": "pVsVCELiRri9",
        "outputId": "817fa7bf-29e2-49b3-e3b3-31184507fd6b"
      },
      "source": [
        "from sklearn.feature_extraction.text import TfidfVectorizer\n",
        "from sklearn.metrics.pairwise import cosine_similarity\n",
        "\n",
        "vectorizer = TfidfVectorizer(stop_words=\"english\")\n",
        "tf_idf_matrix = vectorizer.fit_transform(corpus)\n",
        "\n",
        "similarity_matrix = cosine_similarity(tf_idf_matrix)\n",
        "\n",
        "print(corpus)\n",
        "print(similarity_matrix)"
      ],
      "execution_count": null,
      "outputs": [
        {
          "output_type": "stream",
          "text": [
            "['Computers can analyze text', 'They do it using vectors and matrices', 'Computers can process massive amounts of text data']\n",
            "[[1.         0.         0.34686697]\n",
            " [0.         1.         0.        ]\n",
            " [0.34686697 0.         1.        ]]\n"
          ],
          "name": "stdout"
        }
      ]
    },
    {
      "cell_type": "code",
      "metadata": {
        "colab": {
          "base_uri": "https://localhost:8080/"
        },
        "id": "JKz7ep0Ql_44",
        "outputId": "5f508550-1264-4e9e-85ed-61256417404c"
      },
      "source": [
        "import numpy as np\n",
        "\n",
        "corpus_2 = [\"Computers can store data\"]\n",
        "\n",
        "tf_idf_matrix_2 = vectorizer.transform(corpus_2)\n",
        "similarity_matrix = cosine_similarity(tf_idf_matrix_2, tf_idf_matrix)\n",
        "\n",
        "print(\"Comparing\", corpus_2, \"and\", corpus)\n",
        "print(\"The similaryty matrix is\", similarity_matrix)\n",
        "\n",
        "max_similary_value = np.amax(similarity_matrix)\n",
        "max_similary_angle = np.rad2deg(np.arccos(max_similary_value))\n",
        "max_similary_index = np.argmax(similarity_matrix)\n",
        "\n",
        "print(f\"The most similar sentence in both corpora are (angle {max_similary_angle}°)\")\n",
        "print(corpus[max_similary_index])\n",
        "print(corpus_2[0])"
      ],
      "execution_count": null,
      "outputs": [
        {
          "output_type": "stream",
          "text": [
            "Comparing ['Computers can store data'] and ['Computers can analyze text', 'They do it using vectors and matrices', 'Computers can process massive amounts of text data']\n",
            "The similaryty matrix is [[0.31348343 0.         0.5532461 ]]\n",
            "The most similar sentence in both corpora are (angle 56.410004560487295°)\n",
            "Computers can process massive amounts of text data\n",
            "Computers can store data\n"
          ],
          "name": "stdout"
        }
      ]
    }
  ]
}