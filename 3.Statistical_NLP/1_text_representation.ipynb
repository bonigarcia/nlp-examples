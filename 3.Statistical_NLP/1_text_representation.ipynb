{
  "nbformat": 4,
  "nbformat_minor": 0,
  "metadata": {
    "colab": {
      "name": "1_text_representation.ipynb",
      "provenance": [],
      "collapsed_sections": []
    },
    "kernelspec": {
      "name": "python3",
      "display_name": "Python 3"
    }
  },
  "cells": [
    {
      "cell_type": "markdown",
      "metadata": {
        "id": "ppuLo7st1EdS"
      },
      "source": [
        "**Bag of Words**"
      ]
    },
    {
      "cell_type": "code",
      "metadata": {
        "id": "vdJCz7w56N9I",
        "colab": {
          "base_uri": "https://localhost:8080/"
        },
        "outputId": "82b4283f-e321-495b-afc5-0a7dcc77bec0"
      },
      "source": [
        "from sklearn.feature_extraction.text import CountVectorizer\n",
        "\n",
        "corpus = [\"Computers can analyze text\", \"They do it using vectors and matrices\", \"Computers can process massive amounts of text data\"]\n",
        "\n",
        "vectorizer = CountVectorizer(stop_words=\"english\")\n",
        "X = vectorizer.fit_transform(corpus)\n",
        "\n",
        "print(\"Vocabulary\", vectorizer.vocabulary_)\n",
        "print(\"Feature names\", vectorizer.get_feature_names())\n",
        "print(\"BoW matrix\", X.toarray())\n",
        "print(\"BoW matrix shape\", X.shape)"
      ],
      "execution_count": 7,
      "outputs": [
        {
          "output_type": "stream",
          "text": [
            "Vocabulary {'computers': 2, 'analyze': 1, 'text': 7, 'using': 8, 'vectors': 9, 'matrices': 5, 'process': 6, 'massive': 4, 'amounts': 0, 'data': 3}\n",
            "Feature names ['amounts', 'analyze', 'computers', 'data', 'massive', 'matrices', 'process', 'text', 'using', 'vectors']\n",
            "BoW matrix [[0 1 1 0 0 0 0 1 0 0]\n",
            " [0 0 0 0 0 1 0 0 1 1]\n",
            " [1 0 1 1 1 0 1 1 0 0]]\n",
            "BoW matrix shape (3, 10)\n"
          ],
          "name": "stdout"
        }
      ]
    },
    {
      "cell_type": "markdown",
      "metadata": {
        "id": "iBewhUpEI1mX"
      },
      "source": [
        "**TF-IDF**"
      ]
    },
    {
      "cell_type": "code",
      "metadata": {
        "id": "zwsjQ1s2I3A1",
        "colab": {
          "base_uri": "https://localhost:8080/"
        },
        "outputId": "bc3d6667-b49e-48cd-b9f4-a0c6ebdc8e3e"
      },
      "source": [
        "from sklearn.feature_extraction.text import TfidfVectorizer\n",
        "\n",
        "vectorizer = TfidfVectorizer(stop_words=\"english\")\n",
        "X = vectorizer.fit_transform(corpus)\n",
        "\n",
        "print(\"Corpus\", corpus)\n",
        "print(\"Feature names\", vectorizer.get_feature_names())\n",
        "print(\"TF-IDF matrix\", X.toarray())\n",
        "print(\"TF-IDF matrix shape\", X.shape)"
      ],
      "execution_count": 5,
      "outputs": [
        {
          "output_type": "stream",
          "text": [
            "Corpus ['Computers can analyze text', 'They do it using vectors and matrices', 'Computers can process massive amounts of text data']\n",
            "Feature names ['amounts', 'analyze', 'computers', 'data', 'massive', 'matrices', 'process', 'text', 'using', 'vectors']\n",
            "TF-IDF matrix [[0.         0.68091856 0.51785612 0.         0.         0.\n",
            "  0.         0.51785612 0.         0.        ]\n",
            " [0.         0.         0.         0.         0.         0.57735027\n",
            "  0.         0.         0.57735027 0.57735027]\n",
            " [0.44036207 0.         0.3349067  0.44036207 0.44036207 0.\n",
            "  0.44036207 0.3349067  0.         0.        ]]\n",
            "TF-IDF matrix shape (3, 10)\n"
          ],
          "name": "stdout"
        }
      ]
    },
    {
      "cell_type": "markdown",
      "metadata": {
        "id": "gOkRgZA8RvMG"
      },
      "source": [
        "**Cosine similarity**"
      ]
    },
    {
      "cell_type": "code",
      "metadata": {
        "colab": {
          "base_uri": "https://localhost:8080/"
        },
        "id": "pVsVCELiRri9",
        "outputId": "12a27e27-de3c-4e6f-87c6-f4ffe3947db4"
      },
      "source": [
        "from sklearn.feature_extraction.text import TfidfVectorizer\n",
        "from sklearn.metrics.pairwise import cosine_similarity\n",
        "\n",
        "vectorizer = TfidfVectorizer(stop_words=\"english\")\n",
        "X = vectorizer.fit_transform(corpus)\n",
        "\n",
        "similarity_matrix = cosine_similarity(X)\n",
        "\n",
        "print(corpus)\n",
        "print(similarity_matrix)\n",
        "\n",
        "type(X.toarray())"
      ],
      "execution_count": 12,
      "outputs": [
        {
          "output_type": "stream",
          "text": [
            "['Computers can analyze text', 'They do it using vectors and matrices', 'Computers can process massive amounts of text data']\n",
            "[[1.         0.         0.34686697]\n",
            " [0.         1.         0.        ]\n",
            " [0.34686697 0.         1.        ]]\n"
          ],
          "name": "stdout"
        },
        {
          "output_type": "execute_result",
          "data": {
            "text/plain": [
              "numpy.ndarray"
            ]
          },
          "metadata": {
            "tags": []
          },
          "execution_count": 12
        }
      ]
    },
    {
      "cell_type": "code",
      "metadata": {
        "colab": {
          "base_uri": "https://localhost:8080/"
        },
        "id": "JKz7ep0Ql_44",
        "outputId": "59b0e164-19fb-4fcd-d40c-e34dc52b4497"
      },
      "source": [
        "import numpy as np\n",
        "\n",
        "corpus_2 = [\"Computers can store data\"]\n",
        "\n",
        "X_2 = vectorizer.transform(corpus_2)\n",
        "similarity_matrix = cosine_similarity(X_2, X)\n",
        "\n",
        "print(\"Comparing\", corpus_2, \"and\", corpus)\n",
        "print(\"The similaryty matrix is\", similarity_matrix)\n",
        "\n",
        "max_similary_value = np.amax(similarity_matrix)\n",
        "max_similary_angle = np.rad2deg(np.arccos(max_similary_value))\n",
        "max_similary_index = np.argmax(similarity_matrix)\n",
        "\n",
        "print(f\"The most similar sentence in both corpora are (angle {max_similary_angle}°)\")\n",
        "print(corpus[max_similary_index])\n",
        "print(corpus_2[0])"
      ],
      "execution_count": 9,
      "outputs": [
        {
          "output_type": "stream",
          "text": [
            "Comparing ['Computers can store data'] and ['Computers can analyze text', 'They do it using vectors and matrices', 'Computers can process massive amounts of text data']\n",
            "The similaryty matrix is [[0.31348343 0.         0.5532461 ]]\n",
            "The most similar sentence in both corpora are (angle 56.410004560487295°)\n",
            "Computers can process massive amounts of text data\n",
            "Computers can store data\n"
          ],
          "name": "stdout"
        }
      ]
    }
  ]
}