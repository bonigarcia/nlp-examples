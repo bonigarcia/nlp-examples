{
  "nbformat": 4,
  "nbformat_minor": 0,
  "metadata": {
    "colab": {
      "name": "1_multiclass_classifier.ipynb",
      "provenance": [],
      "collapsed_sections": []
    },
    "kernelspec": {
      "display_name": "Python 3",
      "name": "python3"
    }
  },
  "cells": [
    {
      "cell_type": "markdown",
      "metadata": {
        "id": "EiENgdmnk1Ly"
      },
      "source": [
        "**Multiclass classifier**"
      ]
    },
    {
      "cell_type": "code",
      "metadata": {
        "colab": {
          "base_uri": "https://localhost:8080/"
        },
        "id": "NwmyCVIzJoJ3",
        "outputId": "5b2bda04-9357-454f-ab72-8a05c7b63f96"
      },
      "source": [
        "# Dataset\n",
        "\n",
        "from google.colab import drive\n",
        "from sklearn.datasets import load_files\n",
        "\n",
        "drive.mount(\"/content/drive\")\n",
        "\n",
        "# Raw data (BCC article datasets) obtained from the Insight Project\n",
        "# http://mlg.ucd.ie/datasets/bbc.html\n",
        "loaded_data = load_files(\"/content/drive/My Drive/data/bbc\")\n",
        "\n",
        "raw_dataset, y, y_names = loaded_data.data, loaded_data.target, loaded_data.target_names\n",
        "\n",
        "print(\"Number of (raw) documents:\", len(raw_dataset))\n",
        "print(\"Labels (automatically generated from subfolder names):\", y_names)"
      ],
      "execution_count": null,
      "outputs": [
        {
          "output_type": "stream",
          "text": [
            "Drive already mounted at /content/drive; to attempt to forcibly remount, call drive.mount(\"/content/drive\", force_remount=True).\n",
            "Number of (raw) documents: 2225\n",
            "Labels (automatically generated from subfolder names): ['business', 'entertainment', 'politics', 'sport', 'tech']\n"
          ],
          "name": "stdout"
        }
      ]
    },
    {
      "cell_type": "code",
      "metadata": {
        "id": "MIq3NwLtmuQs",
        "colab": {
          "base_uri": "https://localhost:8080/"
        },
        "outputId": "b014cff8-2b2d-44d9-aad7-4dbd3a7c83d7"
      },
      "source": [
        "# Text preprocessing\n",
        "\n",
        "import nltk\n",
        "from nltk.tokenize import regexp_tokenize\n",
        "from nltk.stem.snowball import SnowballStemmer\n",
        "from nltk.corpus import stopwords\n",
        "nltk.download(\"stopwords\")\n",
        "\n",
        "dataset = []\n",
        "stemmer = SnowballStemmer(\"english\")\n",
        "stopwords_en = stopwords.words(\"english\")\n",
        "\n",
        "for i in range(0, len(raw_dataset)):  \n",
        "  tokens = regexp_tokenize(str(raw_dataset[i]), r\"\\w+\")\n",
        "  stems = [stemmer.stem(token) for token in tokens]\n",
        "  words_no_stopwords = [word for word in stems if word not in stopwords_en]\n",
        "  document = ' '.join(words_no_stopwords)\n",
        "  dataset.append(document)"
      ],
      "execution_count": null,
      "outputs": [
        {
          "output_type": "stream",
          "text": [
            "[nltk_data] Downloading package stopwords to /root/nltk_data...\n",
            "[nltk_data]   Unzipping corpora/stopwords.zip.\n"
          ],
          "name": "stdout"
        }
      ]
    },
    {
      "cell_type": "code",
      "metadata": {
        "id": "SbGTPsuPKO1K"
      },
      "source": [
        "# Feature extraction (converting text to vectors)\n",
        "\n",
        "from sklearn.feature_extraction.text import TfidfVectorizer\n",
        "\n",
        "vectorizer = TfidfVectorizer()\n",
        "X = vectorizer.fit_transform(dataset).toarray()"
      ],
      "execution_count": null,
      "outputs": []
    },
    {
      "cell_type": "code",
      "metadata": {
        "colab": {
          "base_uri": "https://localhost:8080/"
        },
        "id": "5Iqs5NP10UCj",
        "outputId": "3fa02fa8-21d8-4474-9dc0-04b9d22c21ad"
      },
      "source": [
        "# Exploratory analysis\r\n",
        "\r\n",
        "vocabulary_size = X.shape[1]\r\n",
        "number_of_classes = len(y_names)\r\n",
        "\r\n",
        "print(\"Number of (preprocessed) documents:\", len(dataset))\r\n",
        "print(\"Vocabulary size:\", vocabulary_size)\r\n",
        "print(\"Number of classes:\", number_of_classes)\r\n",
        "print(\"Vectorized dataset (number of documents, vocabulary size):\", X.shape)"
      ],
      "execution_count": null,
      "outputs": [
        {
          "output_type": "stream",
          "text": [
            "Number of (preprocessed) documents: 2225\n",
            "Vocabulary size: 22576\n",
            "Number of classes: 5\n",
            "Vectorized dataset (number of documents, vocabulary size): (2225, 22576)\n"
          ],
          "name": "stdout"
        }
      ]
    },
    {
      "cell_type": "code",
      "metadata": {
        "id": "DrPRDDJ6LBFz",
        "colab": {
          "base_uri": "https://localhost:8080/"
        },
        "outputId": "2a86b525-f8a1-4868-d490-908b8be4f620"
      },
      "source": [
        "# Split training and testing sets\n",
        "\n",
        "from sklearn.model_selection import train_test_split\n",
        "\n",
        "X_train, X_test, y_train, y_test = train_test_split(X, y, test_size=0.2, random_state=0)\n",
        "\n",
        "print(\"Training set shape:\", X_train.shape)\n",
        "print(\"Test set shape:\", X_test.shape)"
      ],
      "execution_count": null,
      "outputs": [
        {
          "output_type": "stream",
          "text": [
            "Training set shape: (1780, 22576)\n",
            "Test set shape: (445, 22576)\n"
          ],
          "name": "stdout"
        }
      ]
    },
    {
      "cell_type": "code",
      "metadata": {
        "id": "rTWjLavHW-UO",
        "colab": {
          "base_uri": "https://localhost:8080/"
        },
        "outputId": "a01ebb1e-8c45-4a29-ad3e-1e7b263074bd"
      },
      "source": [
        "# Create model\n",
        "\n",
        "from keras.models import Sequential\n",
        "from keras.layers import Dense\n",
        "\n",
        "model = Sequential()\n",
        "model.add(Dense(30, input_dim=vocabulary_size, activation=\"relu\"))\n",
        "model.add(Dense(number_of_classes, activation=\"softmax\"))\n",
        "\n",
        "model.compile(loss=\"sparse_categorical_crossentropy\", optimizer=\"adam\", metrics=[\"accuracy\"])\n",
        "\n",
        "model.summary()"
      ],
      "execution_count": null,
      "outputs": [
        {
          "output_type": "stream",
          "text": [
            "Model: \"sequential_5\"\n",
            "_________________________________________________________________\n",
            "Layer (type)                 Output Shape              Param #   \n",
            "=================================================================\n",
            "dense_10 (Dense)             (None, 30)                677310    \n",
            "_________________________________________________________________\n",
            "dense_11 (Dense)             (None, 5)                 155       \n",
            "=================================================================\n",
            "Total params: 677,465\n",
            "Trainable params: 677,465\n",
            "Non-trainable params: 0\n",
            "_________________________________________________________________\n"
          ],
          "name": "stdout"
        }
      ]
    },
    {
      "cell_type": "code",
      "metadata": {
        "colab": {
          "base_uri": "https://localhost:8080/",
          "height": 312
        },
        "id": "p0kF21ejwInv",
        "outputId": "09f89aca-4009-4461-9691-730c608b34c2"
      },
      "source": [
        "# Plot model\r\n",
        "\r\n",
        "from keras.utils.vis_utils import plot_model\r\n",
        "\r\n",
        "plot_model(model, show_shapes=True, show_layer_names=True)"
      ],
      "execution_count": null,
      "outputs": [
        {
          "output_type": "execute_result",
          "data": {
            "image/png": "[encoded data removed]",
            "text/plain": [
              "<IPython.core.display.Image object>"
            ]
          },
          "metadata": {
            "tags": []
          },
          "execution_count": 52
        }
      ]
    },
    {
      "cell_type": "code",
      "metadata": {
        "id": "ofEmLrKYaqvy"
      },
      "source": [
        "# Fit model\n",
        "\n",
        "history = model.fit(X_train, y_train, validation_data=(X_test, y_test), epochs=30, batch_size=10, verbose=False)"
      ],
      "execution_count": null,
      "outputs": []
    },
    {
      "cell_type": "code",
      "metadata": {
        "colab": {
          "base_uri": "https://localhost:8080/"
        },
        "id": "7JimycoMZCBS",
        "outputId": "4ebfe078-c14f-4e6a-95d6-87ea587234b8"
      },
      "source": [
        "# Evaluate model\n",
        "\n",
        "loss, accuracy = model.evaluate(X_train, y_train, verbose=False)\n",
        "print(\"Training Accuracy: {:.4f}\".format(accuracy))\n",
        "\n",
        "loss, accuracy = model.evaluate(X_test, y_test, verbose=False)\n",
        "print(\"Testing Accuracy:  {:.4f}\".format(accuracy))"
      ],
      "execution_count": null,
      "outputs": [
        {
          "output_type": "stream",
          "text": [
            "Training Accuracy: 1.0000\n",
            "Testing Accuracy:  0.9730\n"
          ],
          "name": "stdout"
        }
      ]
    },
    {
      "cell_type": "code",
      "metadata": {
        "colab": {
          "base_uri": "https://localhost:8080/",
          "height": 337
        },
        "id": "-PBqFPFjiz9j",
        "outputId": "901f583f-cff4-4a8b-ab9b-5af19b9612ae"
      },
      "source": [
        "# Plot loss and accuracy for the training and testing data \n",
        "\n",
        "import matplotlib.pyplot as plt\n",
        "\n",
        "plt.style.use('ggplot')\n",
        "\n",
        "def plot_history(history):\n",
        "  acc = history.history['accuracy']\n",
        "  val_acc = history.history['val_accuracy']\n",
        "  loss = history.history['loss']\n",
        "  val_loss = history.history['val_loss']\n",
        "  x = range(0, len(acc))\n",
        "  \n",
        "  plt.figure(figsize=(12, 5))\n",
        "  plt.subplot(1, 2, 1)\n",
        "  plt.plot(x, acc, 'b', label='Training accuracy')\n",
        "  plt.plot(x, val_acc, 'r', label='Validation accuracy')\n",
        "  plt.title('Training and validation accuracy')\n",
        "  plt.legend()\n",
        "  plt.subplot(1, 2, 2)\n",
        "  plt.plot(x, loss, 'b', label='Training loss')\n",
        "  plt.plot(x, val_loss, 'r', label='Validation loss')\n",
        "  plt.title('Training and validation loss')\n",
        "  plt.legend()\n",
        "\n",
        "plot_history(history)"
      ],
      "execution_count": null,
      "outputs": [
        {
          "output_type": "display_data",
          "data": {
            "image/png": "[encoded data removed]",
            "text/plain": [
              "<Figure size 864x360 with 2 Axes>"
            ]
          },
          "metadata": {
            "tags": []
          }
        }
      ]
    },
    {
      "cell_type": "code",
      "metadata": {
        "colab": {
          "base_uri": "https://localhost:8080/"
        },
        "id": "k26JvC7MlEER",
        "outputId": "893397f9-8eaa-4cd1-d428-e690add1e669"
      },
      "source": [
        "# Predict unseen data\n",
        "\n",
        "import numpy as np\n",
        "\n",
        "unseen_sentence = input(\"Enter a sentence: \")\n",
        "X_unseen = vectorizer.transform([unseen_sentence]).toarray()\n",
        "y_unseen = np.argmax(model.predict(X_unseen), axis=-1) # Equivalent to: y_unseen = model.predict_classes(X_unseen)\n",
        "\n",
        "print(\"Possible classes:\", y_names)\n",
        "print(\"The pedicted class for that sentence is:\", y_names[y_unseen[0]])"
      ],
      "execution_count": null,
      "outputs": [
        {
          "output_type": "stream",
          "text": [
            "Enter a sentence: Messi scores a goal\n",
            "Possible classes: ['business', 'entertainment', 'politics', 'sport', 'tech']\n",
            "The pedicted class for that sentence is: sport\n"
          ],
          "name": "stdout"
        }
      ]
    },
    {
      "cell_type": "code",
      "metadata": {
        "id": "pwKCQC8l6Rra"
      },
      "source": [
        "# Savel model\r\n",
        "\r\n",
        "import h5py\r\n",
        "\r\n",
        "model_structure = model.to_json()\r\n",
        "\r\n",
        "with open(\"multiclass_classifier_model.json\", \"w\") as json_file:\r\n",
        "  json_file.write(model_structure)\r\n",
        "\r\n",
        "model.save_weights(\"multiclass_classifier_weights.h5\")\r\n"
      ],
      "execution_count": null,
      "outputs": []
    },
    {
      "cell_type": "code",
      "metadata": {
        "colab": {
          "base_uri": "https://localhost:8080/"
        },
        "id": "vQsVpp2Muyhz",
        "outputId": "6be5df83-5844-4e46-b97a-a7f460bb8cc2"
      },
      "source": [
        "# Load model\r\n",
        "\r\n",
        "from keras.models import model_from_json\r\n",
        "\r\n",
        "with open(\"multiclass_classifier_model.json\", \"r\") as json_file:\r\n",
        "  loaded_model = model_from_json(json_file.read())\r\n",
        "\r\n",
        "loaded_model.load_weights(\"multiclass_classifier_weights.h5\")\r\n",
        "\r\n",
        "loaded_model.compile(loss=\"sparse_categorical_crossentropy\", optimizer=\"adam\", metrics=[\"accuracy\"])\r\n",
        "\r\n",
        "loss, accuracy = loaded_model.evaluate(X_train, y_train, verbose=False)\r\n",
        "print(\"Training Accuracy: {:.4f}\".format(accuracy))\r\n",
        "\r\n",
        "loss, accuracy = loaded_model.evaluate(X_test, y_test, verbose=False)\r\n",
        "print(\"Testing Accuracy:  {:.4f}\".format(accuracy))"
      ],
      "execution_count": null,
      "outputs": [
        {
          "output_type": "stream",
          "text": [
            "Training Accuracy: 1.0000\n",
            "Testing Accuracy:  0.9730\n"
          ],
          "name": "stdout"
        }
      ]
    }
  ]
}