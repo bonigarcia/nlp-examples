{
  "nbformat": 4,
  "nbformat_minor": 0,
  "metadata": {
    "colab": {
      "name": "2_sentiment_analysis.ipynb",
      "provenance": [],
      "collapsed_sections": []
    },
    "kernelspec": {
      "display_name": "Python 3",
      "name": "python3"
    }
  },
  "cells": [
    {
      "cell_type": "markdown",
      "metadata": {
        "id": "EiENgdmnk1Ly"
      },
      "source": [
        "**Sentiment analaysis**"
      ]
    },
    {
      "cell_type": "code",
      "metadata": {
        "colab": {
          "base_uri": "https://localhost:8080/"
        },
        "id": "NwmyCVIzJoJ3",
        "outputId": "5267bbb8-b8ac-4e03-b4be-c9bac5de9055"
      },
      "source": [
        "# Dataset\n",
        "\n",
        "from google.colab import drive\n",
        "import pandas as pd\n",
        "import numpy as np\n",
        "\n",
        "drive.mount(\"/content/drive\")\n",
        "\n",
        "y_names = [\"negative\", \"positive\"]\n",
        "\n",
        "# Sentiment Labelled Sentences Data Set from the UCI (University of California Irvine) Machine Learning Repository\n",
        "# https://archive.ics.uci.edu/ml/datasets/Sentiment+Labelled+Sentences\n",
        "dataset = pd.read_csv(\"/content/drive/My Drive/data/sentiment labelled sentences/yelp_labelled.txt\", sep=\"\\t\", names=y_names)\n",
        "\n",
        "y = np.array(dataset.get(y_names[1]).tolist())\n",
        "raw_dataset = dataset.get(y_names[0]).tolist()\n",
        "\n",
        "print(\"Number of (raw) documents:\", len(raw_dataset))\n",
        "print(\"Labels:\", y_names)\n",
        "print(\"First label values:\", y[:5])"
      ],
      "execution_count": 13,
      "outputs": [
        {
          "output_type": "stream",
          "text": [
            "Drive already mounted at /content/drive; to attempt to forcibly remount, call drive.mount(\"/content/drive\", force_remount=True).\n",
            "Number of (raw) documents: 1000\n",
            "Labels: ['negative', 'positive']\n",
            "First label values: [1 0 0 1 1]\n"
          ],
          "name": "stdout"
        }
      ]
    },
    {
      "cell_type": "code",
      "metadata": {
        "id": "MIq3NwLtmuQs",
        "colab": {
          "base_uri": "https://localhost:8080/"
        },
        "outputId": "4c8a9cab-e297-4a1b-ef6a-ffca48e9036c"
      },
      "source": [
        "# Text preprocessing\n",
        "\n",
        "import nltk\n",
        "from nltk.tokenize import regexp_tokenize\n",
        "from nltk.stem.snowball import SnowballStemmer\n",
        "from nltk.corpus import stopwords\n",
        "nltk.download(\"stopwords\")\n",
        "\n",
        "dataset = []\n",
        "stemmer = SnowballStemmer(\"english\")\n",
        "stopwords_en = stopwords.words(\"english\")\n",
        "\n",
        "for i in range(0, len(raw_dataset)):  \n",
        "  tokens = regexp_tokenize(str(raw_dataset[i]), r\"\\w+\")\n",
        "  stems = [stemmer.stem(token) for token in tokens]\n",
        "  words_no_stopwords = [word for word in stems if word not in stopwords_en]\n",
        "  document = ' '.join(words_no_stopwords)\n",
        "  dataset.append(document)"
      ],
      "execution_count": 14,
      "outputs": [
        {
          "output_type": "stream",
          "text": [
            "[nltk_data] Downloading package stopwords to /root/nltk_data...\n",
            "[nltk_data]   Package stopwords is already up-to-date!\n"
          ],
          "name": "stdout"
        }
      ]
    },
    {
      "cell_type": "code",
      "metadata": {
        "id": "SbGTPsuPKO1K"
      },
      "source": [
        "# Feature extraction (converting text to vectors)\n",
        "\n",
        "from sklearn.feature_extraction.text import TfidfVectorizer\n",
        "\n",
        "vectorizer = TfidfVectorizer()\n",
        "X = vectorizer.fit_transform(dataset).toarray()"
      ],
      "execution_count": 15,
      "outputs": []
    },
    {
      "cell_type": "code",
      "metadata": {
        "colab": {
          "base_uri": "https://localhost:8080/"
        },
        "id": "cY6UrIZfAldi",
        "outputId": "43a70d09-86f5-408a-cba5-46cde6e544e7"
      },
      "source": [
        "# Exploratory analysis\r\n",
        "\r\n",
        "vocabulary_size = X.shape[1]\r\n",
        "number_of_classes = len(y_names)\r\n",
        "\r\n",
        "print(\"Number of (preprocessed) documents:\", len(dataset))\r\n",
        "print(\"Vocabulary size:\", vocabulary_size)\r\n",
        "print(\"Number of classes:\", number_of_classes)\r\n",
        "print(\"Vectorized dataset (number of documents, vocabulary size):\", X.shape)"
      ],
      "execution_count": 16,
      "outputs": [
        {
          "output_type": "stream",
          "text": [
            "Number of (preprocessed) documents: 1000\n",
            "Vocabulary size: 1575\n",
            "Number of classes: 2\n",
            "Vectorized dataset (number of documents, vocabulary size): (1000, 1575)\n"
          ],
          "name": "stdout"
        }
      ]
    },
    {
      "cell_type": "code",
      "metadata": {
        "id": "DrPRDDJ6LBFz",
        "colab": {
          "base_uri": "https://localhost:8080/"
        },
        "outputId": "daf5af4a-f489-43a3-c665-1a852a4d4465"
      },
      "source": [
        "# Split training and testing sets\n",
        "\n",
        "from sklearn.model_selection import train_test_split\n",
        "\n",
        "X_train, X_test, y_train, y_test = train_test_split(X, y, test_size=0.2, random_state=0)\n",
        "\n",
        "print(\"Training set shape:\", X_train.shape)\n",
        "print(\"Test set shape:\", X_test.shape)"
      ],
      "execution_count": 17,
      "outputs": [
        {
          "output_type": "stream",
          "text": [
            "Training set shape: (800, 1575)\n",
            "Test set shape: (200, 1575)\n"
          ],
          "name": "stdout"
        }
      ]
    },
    {
      "cell_type": "code",
      "metadata": {
        "id": "rTWjLavHW-UO",
        "colab": {
          "base_uri": "https://localhost:8080/"
        },
        "outputId": "3cb53e1c-e677-4d02-fcff-357c9487529d"
      },
      "source": [
        "# Create model\n",
        "\n",
        "from keras.models import Sequential\n",
        "from keras.layers import Dense\n",
        "\n",
        "model = Sequential()\n",
        "model.add(Dense(10, input_dim=vocabulary_size, activation=\"relu\"))\n",
        "model.add(Dense(8, activation=\"relu\"))\n",
        "model.add(Dense(1, activation=\"sigmoid\"))\n",
        "\n",
        "model.compile(loss=\"binary_crossentropy\", optimizer=\"adam\", metrics=[\"accuracy\"])\n",
        "\n",
        "model.summary()"
      ],
      "execution_count": 18,
      "outputs": [
        {
          "output_type": "stream",
          "text": [
            "Model: \"sequential_1\"\n",
            "_________________________________________________________________\n",
            "Layer (type)                 Output Shape              Param #   \n",
            "=================================================================\n",
            "dense_3 (Dense)              (None, 10)                15760     \n",
            "_________________________________________________________________\n",
            "dense_4 (Dense)              (None, 8)                 88        \n",
            "_________________________________________________________________\n",
            "dense_5 (Dense)              (None, 1)                 9         \n",
            "=================================================================\n",
            "Total params: 15,857\n",
            "Trainable params: 15,857\n",
            "Non-trainable params: 0\n",
            "_________________________________________________________________\n"
          ],
          "name": "stdout"
        }
      ]
    },
    {
      "cell_type": "code",
      "metadata": {
        "colab": {
          "base_uri": "https://localhost:8080/",
          "height": 422
        },
        "id": "o1eLtDW8A3aL",
        "outputId": "e3e27744-7b1e-4b2a-8029-7b60a2b28302"
      },
      "source": [
        "# Plot model\r\n",
        "\r\n",
        "from keras.utils.vis_utils import plot_model\r\n",
        "\r\n",
        "plot_model(model, show_shapes=True, show_layer_names=True)"
      ],
      "execution_count": 19,
      "outputs": [
        {
          "output_type": "execute_result",
          "data": {
            "image/png": "[encoded data removed]",
            "text/plain": [
              "<IPython.core.display.Image object>"
            ]
          },
          "metadata": {
            "tags": []
          },
          "execution_count": 19
        }
      ]
    },
    {
      "cell_type": "code",
      "metadata": {
        "id": "ofEmLrKYaqvy"
      },
      "source": [
        "# Fit model\n",
        "\n",
        "history = model.fit(X_train, y_train, validation_data=(X_test, y_test), epochs=75, batch_size=10, verbose=False)"
      ],
      "execution_count": 20,
      "outputs": []
    },
    {
      "cell_type": "code",
      "metadata": {
        "colab": {
          "base_uri": "https://localhost:8080/"
        },
        "id": "7JimycoMZCBS",
        "outputId": "a251bcd6-34b5-40da-9790-d642b7742e78"
      },
      "source": [
        "# Evaluate model\n",
        "\n",
        "loss, accuracy = model.evaluate(X_train, y_train, verbose=False)\n",
        "print(\"Training Accuracy: {:.4f}\".format(accuracy))\n",
        "\n",
        "loss, accuracy = model.evaluate(X_test, y_test, verbose=False)\n",
        "print(\"Testing Accuracy:  {:.4f}\".format(accuracy))"
      ],
      "execution_count": 21,
      "outputs": [
        {
          "output_type": "stream",
          "text": [
            "Training Accuracy: 0.9937\n",
            "Testing Accuracy:  0.7550\n"
          ],
          "name": "stdout"
        }
      ]
    },
    {
      "cell_type": "code",
      "metadata": {
        "colab": {
          "base_uri": "https://localhost:8080/",
          "height": 354
        },
        "id": "-PBqFPFjiz9j",
        "outputId": "d6222674-5c29-4e6f-bf29-76166f16a349"
      },
      "source": [
        "# Plot loss and accuracy for the training and testing data \n",
        "\n",
        "import matplotlib.pyplot as plt\n",
        "\n",
        "def plot_history(history):\n",
        "  acc = history.history[\"accuracy\"]\n",
        "  val_acc = history.history[\"val_accuracy\"]\n",
        "  loss = history.history[\"loss\"]\n",
        "  val_loss = history.history[\"val_loss\"]\n",
        "  x = range(1, len(acc) + 1)\n",
        "  plt.style.use(\"ggplot\")\n",
        "  plt.figure(figsize=(12, 5))\n",
        "\n",
        "  plt.subplot(1, 2, 1)\n",
        "  plt.plot(x, acc, label=\"Training\")\n",
        "  plt.plot(x, val_acc, label=\"Validation\")\n",
        "  plt.title(\"Accuracy\")\n",
        "  plt.xlabel(\"epochs\")\n",
        "  plt.ylabel(\"accuracy\")\n",
        "  plt.legend()\n",
        "  \n",
        "  plt.subplot(1, 2, 2)\n",
        "  plt.plot(x, loss, label=\"Training\")\n",
        "  plt.plot(x, val_loss, label=\"Validation\")\n",
        "  plt.title(\"Loss\")\n",
        "  plt.legend()\n",
        "  plt.xlabel(\"epochs\")\n",
        "  plt.ylabel(\"loss\")\n",
        "\n",
        "plot_history(history)"
      ],
      "execution_count": 25,
      "outputs": [
        {
          "output_type": "display_data",
          "data": {
            "image/png": "[encoded data removed]",
            "text/plain": [
              "<Figure size 864x360 with 2 Axes>"
            ]
          },
          "metadata": {
            "tags": []
          }
        }
      ]
    },
    {
      "cell_type": "code",
      "metadata": {
        "colab": {
          "base_uri": "https://localhost:8080/"
        },
        "id": "k26JvC7MlEER",
        "outputId": "947d2591-6b56-4ccf-b814-3d2f0ae0b532"
      },
      "source": [
        "# Predict unseen data\n",
        "\n",
        "unseen_sentence = input(\"Enter a sentence: \")\n",
        "X_unseen = vectorizer.transform([unseen_sentence]).toarray()\n",
        "\n",
        "y_unseen = np.argmax(model.predict(X_unseen), axis=-1) # Equivalent to: y_unseen = model.predict_classes(X_unseen)\n",
        "print(\"The pedicted class for that sentence is:\", y_names[y_unseen[0]])"
      ],
      "execution_count": null,
      "outputs": [
        {
          "output_type": "stream",
          "text": [
            "Enter a sentence: This is very bad\n",
            "The pedicted class for that sentence is: negative\n"
          ],
          "name": "stdout"
        }
      ]
    },
    {
      "cell_type": "code",
      "metadata": {
        "id": "DDlfmA3cSDJ3"
      },
      "source": [
        "# Savel model\r\n",
        "\r\n",
        "import h5py\r\n",
        "\r\n",
        "model_structure = model.to_json()\r\n",
        "\r\n",
        "with open(\"sentiment_analysis_model.json\", \"w\") as json_file:\r\n",
        "  json_file.write(model_structure)\r\n",
        "\r\n",
        "model.save_weights(\"sentiment_analysis_weights.h5\")"
      ],
      "execution_count": null,
      "outputs": []
    },
    {
      "cell_type": "code",
      "metadata": {
        "colab": {
          "base_uri": "https://localhost:8080/"
        },
        "id": "eveDqSLsB3EB",
        "outputId": "6e259a12-133b-4e12-a3e4-7f5ca60583f5"
      },
      "source": [
        "# Load model\r\n",
        "\r\n",
        "from keras.models import model_from_json\r\n",
        "\r\n",
        "with open(\"sentiment_analysis_model.json\", \"r\") as json_file:\r\n",
        "  loaded_model = model_from_json(json_file.read())\r\n",
        "\r\n",
        "loaded_model.load_weights(\"sentiment_analysis_weights.h5\")\r\n",
        "\r\n",
        "loaded_model.compile(loss=\"binary_crossentropy\", optimizer=\"adam\", metrics=[\"accuracy\"])\r\n",
        "\r\n",
        "loss, accuracy = loaded_model.evaluate(X_train, y_train, verbose=False)\r\n",
        "print(\"Training Accuracy: {:.4f}\".format(accuracy))\r\n",
        "\r\n",
        "loss, accuracy = loaded_model.evaluate(X_test, y_test, verbose=False)\r\n",
        "print(\"Testing Accuracy:  {:.4f}\".format(accuracy))"
      ],
      "execution_count": null,
      "outputs": [
        {
          "output_type": "stream",
          "text": [
            "Training Accuracy: 0.9937\n",
            "Testing Accuracy:  0.7450\n"
          ],
          "name": "stdout"
        }
      ]
    }
  ]
}