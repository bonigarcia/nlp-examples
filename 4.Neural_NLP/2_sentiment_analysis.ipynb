{
  "nbformat": 4,
  "nbformat_minor": 0,
  "metadata": {
    "colab": {
      "name": "1_sentiment_analysis.ipynb",
      "provenance": [],
      "collapsed_sections": []
    },
    "kernelspec": {
      "display_name": "Python 3",
      "name": "python3"
    }
  },
  "cells": [
    {
      "cell_type": "markdown",
      "metadata": {
        "id": "EiENgdmnk1Ly"
      },
      "source": [
        "**Sentiment analaysis**"
      ]
    },
    {
      "cell_type": "code",
      "metadata": {
        "colab": {
          "base_uri": "https://localhost:8080/"
        },
        "id": "NwmyCVIzJoJ3",
        "outputId": "4e695033-9b32-475e-ed6c-27f69284bed7"
      },
      "source": [
        "# Dataset\n",
        "\n",
        "from google.colab import drive\n",
        "import pandas as pd\n",
        "import numpy as np\n",
        "\n",
        "drive.mount(\"/content/drive\")\n",
        "\n",
        "y_names = [\"negative\", \"positive\"]\n",
        "\n",
        "# Sentiment Labelled Sentences Data Set from the UCI (University of California Irvine) Machine Learning Repository\n",
        "# https://archive.ics.uci.edu/ml/datasets/Sentiment+Labelled+Sentences\n",
        "dataset = pd.read_csv(\"/content/drive/My Drive/data/sentiment labelled sentences/yelp_labelled.txt\", sep=\"\\t\", names=y_names)\n",
        "\n",
        "y = np.array(dataset.get(y_names[1]).tolist())\n",
        "raw_dataset = dataset.get(y_names[0]).tolist()"
      ],
      "execution_count": null,
      "outputs": [
        {
          "output_type": "stream",
          "text": [
            "Drive already mounted at /content/drive; to attempt to forcibly remount, call drive.mount(\"/content/drive\", force_remount=True).\n"
          ],
          "name": "stdout"
        }
      ]
    },
    {
      "cell_type": "code",
      "metadata": {
        "id": "MIq3NwLtmuQs",
        "colab": {
          "base_uri": "https://localhost:8080/"
        },
        "outputId": "87c01f40-6c4c-48b7-e218-89962a79fbf9"
      },
      "source": [
        "# Text preprocessing\n",
        "\n",
        "import nltk\n",
        "from nltk.tokenize import regexp_tokenize\n",
        "from nltk.stem.snowball import SnowballStemmer\n",
        "from nltk.corpus import stopwords\n",
        "nltk.download(\"stopwords\")\n",
        "\n",
        "dataset = []\n",
        "stemmer = SnowballStemmer(\"english\")\n",
        "stopwords_en = stopwords.words(\"english\")\n",
        "\n",
        "for i in range(0, len(raw_dataset)):  \n",
        "  tokens = regexp_tokenize(str(raw_dataset[i]), r\"\\w+\")\n",
        "  stems = [stemmer.stem(token) for token in tokens]\n",
        "  words_no_stopwords = [word for word in stems if word not in stopwords_en]\n",
        "  document = ' '.join(words_no_stopwords)\n",
        "  dataset.append(document)"
      ],
      "execution_count": null,
      "outputs": [
        {
          "output_type": "stream",
          "text": [
            "[nltk_data] Downloading package stopwords to /root/nltk_data...\n",
            "[nltk_data]   Package stopwords is already up-to-date!\n"
          ],
          "name": "stdout"
        }
      ]
    },
    {
      "cell_type": "code",
      "metadata": {
        "id": "SbGTPsuPKO1K"
      },
      "source": [
        "# Feature extraction (converting text to vectors)\n",
        "\n",
        "from sklearn.feature_extraction.text import TfidfVectorizer\n",
        "\n",
        "vectorizer = TfidfVectorizer()\n",
        "X = vectorizer.fit_transform(dataset).toarray()"
      ],
      "execution_count": null,
      "outputs": []
    },
    {
      "cell_type": "code",
      "metadata": {
        "id": "DrPRDDJ6LBFz"
      },
      "source": [
        "# Split training and testing sets\n",
        "\n",
        "from sklearn.model_selection import train_test_split\n",
        "\n",
        "X_train, X_test, y_train, y_test = train_test_split(X, y, test_size=0.2, random_state=0)"
      ],
      "execution_count": null,
      "outputs": []
    },
    {
      "cell_type": "code",
      "metadata": {
        "id": "rTWjLavHW-UO",
        "colab": {
          "base_uri": "https://localhost:8080/"
        },
        "outputId": "bd866950-65f3-4386-b665-26fafa0a4d8b"
      },
      "source": [
        "# Define model\n",
        "\n",
        "from keras.models import Sequential\n",
        "from keras.layers import Dense\n",
        "\n",
        "model = Sequential()\n",
        "model.add(Dense(10, input_dim=X_train.shape[1], activation='relu'))\n",
        "model.add(Dense(8, activation='relu'))\n",
        "model.add(Dense(1, activation='sigmoid'))\n",
        "\n",
        "model.compile(loss='binary_crossentropy', optimizer='adam', metrics=['accuracy'])\n",
        "\n",
        "model.summary()"
      ],
      "execution_count": null,
      "outputs": [
        {
          "output_type": "stream",
          "text": [
            "Model: \"sequential_3\"\n",
            "_________________________________________________________________\n",
            "Layer (type)                 Output Shape              Param #   \n",
            "=================================================================\n",
            "dense_9 (Dense)              (None, 10)                15760     \n",
            "_________________________________________________________________\n",
            "dense_10 (Dense)             (None, 8)                 88        \n",
            "_________________________________________________________________\n",
            "dense_11 (Dense)             (None, 1)                 9         \n",
            "=================================================================\n",
            "Total params: 15,857\n",
            "Trainable params: 15,857\n",
            "Non-trainable params: 0\n",
            "_________________________________________________________________\n"
          ],
          "name": "stdout"
        }
      ]
    },
    {
      "cell_type": "code",
      "metadata": {
        "id": "ofEmLrKYaqvy"
      },
      "source": [
        "# Fit model\n",
        "\n",
        "history = model.fit(X_train, y_train, epochs=100, verbose=False, validation_data=(X_test, y_test), batch_size=10)"
      ],
      "execution_count": null,
      "outputs": []
    },
    {
      "cell_type": "code",
      "metadata": {
        "colab": {
          "base_uri": "https://localhost:8080/"
        },
        "id": "7JimycoMZCBS",
        "outputId": "494dc4c0-1858-4f75-caa9-075525d75e5a"
      },
      "source": [
        "# Evaluate model\n",
        "\n",
        "loss, accuracy = model.evaluate(X_train, y_train, verbose=False)\n",
        "print(\"Training Accuracy: {:.4f}\".format(accuracy))\n",
        "\n",
        "loss, accuracy = model.evaluate(X_test, y_test, verbose=False)\n",
        "print(\"Testing Accuracy:  {:.4f}\".format(accuracy))"
      ],
      "execution_count": null,
      "outputs": [
        {
          "output_type": "stream",
          "text": [
            "Training Accuracy: 0.9975\n",
            "Testing Accuracy:  0.7500\n"
          ],
          "name": "stdout"
        }
      ]
    },
    {
      "cell_type": "code",
      "metadata": {
        "colab": {
          "base_uri": "https://localhost:8080/",
          "height": 337
        },
        "id": "-PBqFPFjiz9j",
        "outputId": "416a3a32-9cdd-4bef-f86f-15084dff4042"
      },
      "source": [
        "# Plot loss and accuracy for the training and testing data \n",
        "\n",
        "import matplotlib.pyplot as plt\n",
        "\n",
        "plt.style.use('ggplot')\n",
        "\n",
        "def plot_history(history):\n",
        "  acc = history.history['accuracy']\n",
        "  val_acc = history.history['val_accuracy']\n",
        "  loss = history.history['loss']\n",
        "  val_loss = history.history['val_loss']\n",
        "  x = range(0, len(acc))\n",
        "  \n",
        "  plt.figure(figsize=(12, 5))\n",
        "  plt.subplot(1, 2, 1)\n",
        "  plt.plot(x, acc, 'b', label='Training accuracy')\n",
        "  plt.plot(x, val_acc, 'r', label='Validation accuracy')\n",
        "  plt.title('Training and validation accuracy')\n",
        "  plt.legend()\n",
        "  plt.subplot(1, 2, 2)\n",
        "  plt.plot(x, loss, 'b', label='Training loss')\n",
        "  plt.plot(x, val_loss, 'r', label='Validation loss')\n",
        "  plt.title('Training and validation loss')\n",
        "  plt.legend()\n",
        "\n",
        "plot_history(history)"
      ],
      "execution_count": null,
      "outputs": [
        {
          "output_type": "display_data",
          "data": {
            "image/png": "[encoded data removed]",
            "text/plain": [
              "<Figure size 864x360 with 2 Axes>"
            ]
          },
          "metadata": {
            "tags": []
          }
        }
      ]
    },
    {
      "cell_type": "code",
      "metadata": {
        "colab": {
          "base_uri": "https://localhost:8080/"
        },
        "id": "k26JvC7MlEER",
        "outputId": "947d2591-6b56-4ccf-b814-3d2f0ae0b532"
      },
      "source": [
        "# Predict unseen data\n",
        "\n",
        "unseen_sentence = input(\"Enter a sentence: \")\n",
        "X_unseen = vectorizer.transform([unseen_sentence]).toarray()\n",
        "\n",
        "y_unseen = np.argmax(model.predict(X_unseen), axis=-1) # Equivalent to: y_unseen = model.predict_classes(X_unseen)\n",
        "print(\"The pedicted class for that sentence is:\", y_names[y_unseen[0]])"
      ],
      "execution_count": null,
      "outputs": [
        {
          "output_type": "stream",
          "text": [
            "Enter a sentence: This is very bad\n",
            "The pedicted class for that sentence is: negative\n"
          ],
          "name": "stdout"
        }
      ]
    },
    {
      "cell_type": "code",
      "metadata": {
        "id": "DDlfmA3cSDJ3"
      },
      "source": [
        "# Savel model\r\n",
        "\r\n",
        "import h5py\r\n",
        "\r\n",
        "model_structure = model.to_json()\r\n",
        "\r\n",
        "with open(\"sentiment_analysis_model.json\", \"w\") as json_file:\r\n",
        "  json_file.write(model_structure)\r\n",
        "\r\n",
        "model.save_weights(\"sentiment_analysis_weights.h5\")"
      ],
      "execution_count": null,
      "outputs": []
    }
  ]
}