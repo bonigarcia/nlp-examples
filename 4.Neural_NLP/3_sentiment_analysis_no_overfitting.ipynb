{
  "nbformat": 4,
  "nbformat_minor": 0,
  "metadata": {
    "colab": {
      "name": "3_sentiment_analysis_no_overfitting.ipynb",
      "provenance": [],
      "collapsed_sections": []
    },
    "kernelspec": {
      "display_name": "Python 3",
      "name": "python3"
    }
  },
  "cells": [
    {
      "cell_type": "markdown",
      "metadata": {
        "id": "EiENgdmnk1Ly"
      },
      "source": [
        "**Sentiment analaysis**"
      ]
    },
    {
      "cell_type": "code",
      "metadata": {
        "colab": {
          "base_uri": "https://localhost:8080/"
        },
        "id": "NwmyCVIzJoJ3",
        "outputId": "29c92b45-a7e5-4bd2-9bfd-763f270a9ffc"
      },
      "source": [
        "# Dataset\n",
        "\n",
        "from google.colab import drive\n",
        "import pandas as pd\n",
        "import numpy as np\n",
        "\n",
        "drive.mount(\"/content/drive\")\n",
        "\n",
        "y_names = [\"negative\", \"positive\"]\n",
        "\n",
        "# Sentiment Labelled Sentences Data Set from the UCI (University of California Irvine) Machine Learning Repository\n",
        "# https://archive.ics.uci.edu/ml/datasets/Sentiment+Labelled+Sentences\n",
        "dataset = pd.read_csv(\"/content/drive/My Drive/data/sentiment labelled sentences/yelp_labelled.txt\", sep=\"\\t\", names=y_names)\n",
        "\n",
        "y = np.array(dataset.get(y_names[1]).tolist())\n",
        "raw_dataset = dataset.get(y_names[0]).tolist()\n",
        "\n",
        "print(\"Number of (raw) documents:\", len(raw_dataset))\n",
        "print(\"Labels:\", y_names)"
      ],
      "execution_count": null,
      "outputs": [
        {
          "output_type": "stream",
          "text": [
            "Mounted at /content/drive\n",
            "Number of (raw) documents: 1000\n",
            "Labels: ['negative', 'positive']\n"
          ],
          "name": "stdout"
        }
      ]
    },
    {
      "cell_type": "code",
      "metadata": {
        "id": "MIq3NwLtmuQs",
        "colab": {
          "base_uri": "https://localhost:8080/"
        },
        "outputId": "c8c48b54-b40a-4e86-9768-a7058a6be018"
      },
      "source": [
        "# Text preprocessing\n",
        "\n",
        "import nltk\n",
        "from nltk.tokenize import regexp_tokenize\n",
        "from nltk.stem.snowball import SnowballStemmer\n",
        "from nltk.corpus import stopwords\n",
        "nltk.download(\"stopwords\")\n",
        "\n",
        "dataset = []\n",
        "stemmer = SnowballStemmer(\"english\")\n",
        "stopwords_en = stopwords.words(\"english\")\n",
        "\n",
        "for i in range(0, len(raw_dataset)):  \n",
        "  tokens = regexp_tokenize(str(raw_dataset[i]), r\"\\w+\")\n",
        "  stems = [stemmer.stem(token) for token in tokens]\n",
        "  words_no_stopwords = [word for word in stems if word not in stopwords_en]\n",
        "  document = ' '.join(words_no_stopwords)\n",
        "  dataset.append(document)"
      ],
      "execution_count": null,
      "outputs": [
        {
          "output_type": "stream",
          "text": [
            "[nltk_data] Downloading package stopwords to /root/nltk_data...\n",
            "[nltk_data]   Unzipping corpora/stopwords.zip.\n"
          ],
          "name": "stdout"
        }
      ]
    },
    {
      "cell_type": "code",
      "metadata": {
        "id": "SbGTPsuPKO1K"
      },
      "source": [
        "# Feature extraction (converting text to vectors)\n",
        "\n",
        "from sklearn.feature_extraction.text import TfidfVectorizer\n",
        "\n",
        "vectorizer = TfidfVectorizer()\n",
        "X = vectorizer.fit_transform(dataset).toarray()"
      ],
      "execution_count": null,
      "outputs": []
    },
    {
      "cell_type": "code",
      "metadata": {
        "colab": {
          "base_uri": "https://localhost:8080/"
        },
        "id": "cY6UrIZfAldi",
        "outputId": "6c862cda-440a-4ccd-c9a7-bc79d76818aa"
      },
      "source": [
        "# Exploratory analysis\r\n",
        "\r\n",
        "vocabulary_size = X.shape[1]\r\n",
        "number_of_classes = len(y_names)\r\n",
        "\r\n",
        "print(\"Number of (preprocessed) documents:\", len(dataset))\r\n",
        "print(\"Vocabulary size:\", vocabulary_size)\r\n",
        "print(\"Number of classes:\", number_of_classes)\r\n",
        "print(\"Vectorized dataset (number of documents, vocabulary size):\", X.shape)"
      ],
      "execution_count": null,
      "outputs": [
        {
          "output_type": "stream",
          "text": [
            "Number of (preprocessed) documents: 1000\n",
            "Vocabulary size: 1575\n",
            "Number of classes: 2\n",
            "Vectorized dataset (number of documents, vocabulary size): (1000, 1575)\n"
          ],
          "name": "stdout"
        }
      ]
    },
    {
      "cell_type": "code",
      "metadata": {
        "id": "DrPRDDJ6LBFz",
        "colab": {
          "base_uri": "https://localhost:8080/"
        },
        "outputId": "311e63e1-b289-4b37-d981-67e36a98b5d2"
      },
      "source": [
        "# Split training and testing sets\n",
        "\n",
        "from sklearn.model_selection import train_test_split\n",
        "\n",
        "X_train, X_test, y_train, y_test = train_test_split(X, y, test_size=0.2, random_state=0)\n",
        "\n",
        "print(\"Training set shape:\", X_train.shape)\n",
        "print(\"Test set shape:\", X_test.shape)"
      ],
      "execution_count": null,
      "outputs": [
        {
          "output_type": "stream",
          "text": [
            "Training set shape: (800, 1575)\n",
            "Test set shape: (200, 1575)\n"
          ],
          "name": "stdout"
        }
      ]
    },
    {
      "cell_type": "code",
      "metadata": {
        "id": "rTWjLavHW-UO",
        "colab": {
          "base_uri": "https://localhost:8080/"
        },
        "outputId": "fd3f5395-e3fb-4c3e-b359-f022ec008931"
      },
      "source": [
        "# Create model\n",
        "\n",
        "from keras.models import Sequential\n",
        "from keras.layers import Dense\n",
        "from keras.layers import Dropout\n",
        "\n",
        "model = Sequential()\n",
        "model.add(Dense(10, input_dim=vocabulary_size, activation=\"relu\"))\n",
        "#model.add(Dropout(0.5))\n",
        "#model.add(Dense(8, activation=\"relu\"))\n",
        "#model.add(Dropout(0.5))\n",
        "model.add(Dense(1, activation=\"sigmoid\"))\n",
        "\n",
        "model.compile(loss=\"binary_crossentropy\", optimizer=\"adam\", metrics=[\"accuracy\"])\n",
        "\n",
        "model.summary()"
      ],
      "execution_count": null,
      "outputs": [
        {
          "output_type": "stream",
          "text": [
            "Model: \"sequential_5\"\n",
            "_________________________________________________________________\n",
            "Layer (type)                 Output Shape              Param #   \n",
            "=================================================================\n",
            "dense_12 (Dense)             (None, 10)                15760     \n",
            "_________________________________________________________________\n",
            "dense_13 (Dense)             (None, 1)                 11        \n",
            "=================================================================\n",
            "Total params: 15,771\n",
            "Trainable params: 15,771\n",
            "Non-trainable params: 0\n",
            "_________________________________________________________________\n"
          ],
          "name": "stdout"
        }
      ]
    },
    {
      "cell_type": "code",
      "metadata": {
        "colab": {
          "base_uri": "https://localhost:8080/",
          "height": 312
        },
        "id": "o1eLtDW8A3aL",
        "outputId": "c9345af2-0256-41cc-fe92-2c8979fbd966"
      },
      "source": [
        "# Plot model\r\n",
        "\r\n",
        "from keras.utils.vis_utils import plot_model\r\n",
        "\r\n",
        "plot_model(model, show_shapes=True, show_layer_names=True)"
      ],
      "execution_count": null,
      "outputs": [
        {
          "output_type": "execute_result",
          "data": {
            "image/png": "[encoded data removed]",
            "text/plain": [
              "<IPython.core.display.Image object>"
            ]
          },
          "metadata": {
            "tags": []
          },
          "execution_count": 27
        }
      ]
    },
    {
      "cell_type": "code",
      "metadata": {
        "id": "ofEmLrKYaqvy",
        "colab": {
          "base_uri": "https://localhost:8080/"
        },
        "outputId": "359b8e55-9d56-4a11-a427-e0f3225d2a3c"
      },
      "source": [
        "# Fit model\n",
        "\n",
        "from keras.callbacks import EarlyStopping\n",
        "\n",
        "es_callback = EarlyStopping(monitor='val_loss', patience=3)\n",
        "\n",
        "history = model.fit(X_train, y_train, validation_data=(X_test, y_test), epochs=75, batch_size=10, callbacks=[es_callback])"
      ],
      "execution_count": null,
      "outputs": [
        {
          "output_type": "stream",
          "text": [
            "Epoch 1/75\n",
            "80/80 [==============================] - 0s 3ms/step - loss: 0.6892 - accuracy: 0.5825 - val_loss: 0.6851 - val_accuracy: 0.6400\n",
            "Epoch 2/75\n",
            "80/80 [==============================] - 0s 1ms/step - loss: 0.6665 - accuracy: 0.8025 - val_loss: 0.6666 - val_accuracy: 0.7200\n",
            "Epoch 3/75\n",
            "80/80 [==============================] - 0s 1ms/step - loss: 0.6226 - accuracy: 0.8938 - val_loss: 0.6374 - val_accuracy: 0.7550\n",
            "Epoch 4/75\n",
            "80/80 [==============================] - 0s 1ms/step - loss: 0.5602 - accuracy: 0.9150 - val_loss: 0.6030 - val_accuracy: 0.7650\n",
            "Epoch 5/75\n",
            "80/80 [==============================] - 0s 1ms/step - loss: 0.4898 - accuracy: 0.9275 - val_loss: 0.5695 - val_accuracy: 0.7650\n",
            "Epoch 6/75\n",
            "80/80 [==============================] - 0s 1ms/step - loss: 0.4217 - accuracy: 0.9375 - val_loss: 0.5376 - val_accuracy: 0.7750\n",
            "Epoch 7/75\n",
            "80/80 [==============================] - 0s 1ms/step - loss: 0.3610 - accuracy: 0.9450 - val_loss: 0.5134 - val_accuracy: 0.7700\n",
            "Epoch 8/75\n",
            "80/80 [==============================] - 0s 1ms/step - loss: 0.3098 - accuracy: 0.9538 - val_loss: 0.4945 - val_accuracy: 0.7850\n",
            "Epoch 9/75\n",
            "80/80 [==============================] - 0s 1ms/step - loss: 0.2678 - accuracy: 0.9625 - val_loss: 0.4796 - val_accuracy: 0.7950\n",
            "Epoch 10/75\n",
            "80/80 [==============================] - 0s 1ms/step - loss: 0.2328 - accuracy: 0.9663 - val_loss: 0.4699 - val_accuracy: 0.7950\n",
            "Epoch 11/75\n",
            "80/80 [==============================] - 0s 1ms/step - loss: 0.2043 - accuracy: 0.9725 - val_loss: 0.4611 - val_accuracy: 0.7850\n",
            "Epoch 12/75\n",
            "80/80 [==============================] - 0s 1ms/step - loss: 0.1803 - accuracy: 0.9762 - val_loss: 0.4567 - val_accuracy: 0.7850\n",
            "Epoch 13/75\n",
            "80/80 [==============================] - 0s 1ms/step - loss: 0.1606 - accuracy: 0.9787 - val_loss: 0.4543 - val_accuracy: 0.7800\n",
            "Epoch 14/75\n",
            "80/80 [==============================] - 0s 1ms/step - loss: 0.1439 - accuracy: 0.9825 - val_loss: 0.4535 - val_accuracy: 0.7900\n",
            "Epoch 15/75\n",
            "80/80 [==============================] - 0s 1ms/step - loss: 0.1296 - accuracy: 0.9875 - val_loss: 0.4551 - val_accuracy: 0.7950\n",
            "Epoch 16/75\n",
            "80/80 [==============================] - 0s 1ms/step - loss: 0.1177 - accuracy: 0.9887 - val_loss: 0.4550 - val_accuracy: 0.7950\n",
            "Epoch 17/75\n",
            "80/80 [==============================] - 0s 1ms/step - loss: 0.1071 - accuracy: 0.9887 - val_loss: 0.4569 - val_accuracy: 0.8000\n"
          ],
          "name": "stdout"
        }
      ]
    },
    {
      "cell_type": "code",
      "metadata": {
        "colab": {
          "base_uri": "https://localhost:8080/"
        },
        "id": "7JimycoMZCBS",
        "outputId": "8b825855-2d2f-451b-ffe4-03f3fd9421de"
      },
      "source": [
        "# Evaluate model\n",
        "\n",
        "loss, accuracy = model.evaluate(X_train, y_train, verbose=False)\n",
        "print(\"Training Accuracy: {:.4f}\".format(accuracy))\n",
        "\n",
        "loss, accuracy = model.evaluate(X_test, y_test, verbose=False)\n",
        "print(\"Testing Accuracy:  {:.4f}\".format(accuracy))"
      ],
      "execution_count": null,
      "outputs": [
        {
          "output_type": "stream",
          "text": [
            "Training Accuracy: 0.9887\n",
            "Testing Accuracy:  0.8000\n"
          ],
          "name": "stdout"
        }
      ]
    },
    {
      "cell_type": "code",
      "metadata": {
        "colab": {
          "base_uri": "https://localhost:8080/",
          "height": 337
        },
        "id": "-PBqFPFjiz9j",
        "outputId": "e96133ce-5181-453a-a2cf-7b30d781119b"
      },
      "source": [
        "# Plot loss and accuracy for the training and testing data \n",
        "\n",
        "import matplotlib.pyplot as plt\n",
        "\n",
        "plt.style.use('ggplot')\n",
        "\n",
        "def plot_history(history):\n",
        "  acc = history.history['accuracy']\n",
        "  val_acc = history.history['val_accuracy']\n",
        "  loss = history.history['loss']\n",
        "  val_loss = history.history['val_loss']\n",
        "  x = range(0, len(acc))\n",
        "  \n",
        "  plt.figure(figsize=(12, 5))\n",
        "  plt.subplot(1, 2, 1)\n",
        "  plt.plot(x, acc, 'b', label='Training accuracy')\n",
        "  plt.plot(x, val_acc, 'r', label='Validation accuracy')\n",
        "  plt.title('Training and validation accuracy')\n",
        "  plt.legend()\n",
        "  plt.subplot(1, 2, 2)\n",
        "  plt.plot(x, loss, 'b', label='Training loss')\n",
        "  plt.plot(x, val_loss, 'r', label='Validation loss')\n",
        "  plt.title('Training and validation loss')\n",
        "  plt.legend()\n",
        "\n",
        "plot_history(history)"
      ],
      "execution_count": null,
      "outputs": [
        {
          "output_type": "display_data",
          "data": {
            "image/png": "[encoded data removed]",
            "text/plain": [
              "<Figure size 864x360 with 2 Axes>"
            ]
          },
          "metadata": {
            "tags": []
          }
        }
      ]
    },
    {
      "cell_type": "code",
      "metadata": {
        "colab": {
          "base_uri": "https://localhost:8080/"
        },
        "id": "k26JvC7MlEER",
        "outputId": "947d2591-6b56-4ccf-b814-3d2f0ae0b532"
      },
      "source": [
        "# Predict unseen data\n",
        "\n",
        "unseen_sentence = input(\"Enter a sentence: \")\n",
        "X_unseen = vectorizer.transform([unseen_sentence]).toarray()\n",
        "\n",
        "y_unseen = np.argmax(model.predict(X_unseen), axis=-1) # Equivalent to: y_unseen = model.predict_classes(X_unseen)\n",
        "print(\"The pedicted class for that sentence is:\", y_names[y_unseen[0]])"
      ],
      "execution_count": null,
      "outputs": [
        {
          "output_type": "stream",
          "text": [
            "Enter a sentence: This is very bad\n",
            "The pedicted class for that sentence is: negative\n"
          ],
          "name": "stdout"
        }
      ]
    },
    {
      "cell_type": "code",
      "metadata": {
        "id": "DDlfmA3cSDJ3"
      },
      "source": [
        "# Savel model\r\n",
        "\r\n",
        "import h5py\r\n",
        "\r\n",
        "model_structure = model.to_json()\r\n",
        "\r\n",
        "with open(\"sentiment_analysis_model.json\", \"w\") as json_file:\r\n",
        "  json_file.write(model_structure)\r\n",
        "\r\n",
        "model.save_weights(\"sentiment_analysis_weights.h5\")"
      ],
      "execution_count": null,
      "outputs": []
    },
    {
      "cell_type": "code",
      "metadata": {
        "colab": {
          "base_uri": "https://localhost:8080/"
        },
        "id": "eveDqSLsB3EB",
        "outputId": "6e259a12-133b-4e12-a3e4-7f5ca60583f5"
      },
      "source": [
        "# Load model\r\n",
        "\r\n",
        "from keras.models import model_from_json\r\n",
        "\r\n",
        "with open(\"sentiment_analysis_model.json\", \"r\") as json_file:\r\n",
        "  loaded_model = model_from_json(json_file.read())\r\n",
        "\r\n",
        "loaded_model.load_weights(\"sentiment_analysis_weights.h5\")\r\n",
        "\r\n",
        "loaded_model.compile(loss=\"binary_crossentropy\", optimizer=\"adam\", metrics=[\"accuracy\"])\r\n",
        "\r\n",
        "loss, accuracy = loaded_model.evaluate(X_train, y_train, verbose=False)\r\n",
        "print(\"Training Accuracy: {:.4f}\".format(accuracy))\r\n",
        "\r\n",
        "loss, accuracy = loaded_model.evaluate(X_test, y_test, verbose=False)\r\n",
        "print(\"Testing Accuracy:  {:.4f}\".format(accuracy))"
      ],
      "execution_count": null,
      "outputs": [
        {
          "output_type": "stream",
          "text": [
            "Training Accuracy: 0.9937\n",
            "Testing Accuracy:  0.7450\n"
          ],
          "name": "stdout"
        }
      ]
    }
  ]
}