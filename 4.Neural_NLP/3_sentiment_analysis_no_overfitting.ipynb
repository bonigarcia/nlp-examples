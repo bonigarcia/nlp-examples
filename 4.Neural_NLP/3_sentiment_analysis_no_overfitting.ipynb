{
  "nbformat": 4,
  "nbformat_minor": 0,
  "metadata": {
    "colab": {
      "name": "3_sentiment_analysis_no_overfitting.ipynb",
      "provenance": [],
      "collapsed_sections": []
    },
    "kernelspec": {
      "display_name": "Python 3",
      "name": "python3"
    }
  },
  "cells": [
    {
      "cell_type": "markdown",
      "metadata": {
        "id": "EiENgdmnk1Ly"
      },
      "source": [
        "**Sentiment analaysis**"
      ]
    },
    {
      "cell_type": "code",
      "metadata": {
        "colab": {
          "base_uri": "https://localhost:8080/"
        },
        "id": "NwmyCVIzJoJ3",
        "outputId": "0c2cab03-ff58-4369-8bb4-bbdd7be146a9"
      },
      "source": [
        "# Dataset\n",
        "\n",
        "from google.colab import drive\n",
        "import pandas as pd\n",
        "import numpy as np\n",
        "\n",
        "drive.mount(\"/content/drive\")\n",
        "\n",
        "y_names = [\"negative\", \"positive\"]\n",
        "\n",
        "# Sentiment Labelled Sentences Data Set from the UCI (University of California Irvine) Machine Learning Repository\n",
        "# https://archive.ics.uci.edu/ml/datasets/Sentiment+Labelled+Sentences\n",
        "dataset = pd.read_csv(\"/content/drive/My Drive/data/sentiment labelled sentences/yelp_labelled.txt\", sep=\"\\t\", names=y_names)\n",
        "\n",
        "y = np.array(dataset.get(y_names[1]).tolist())\n",
        "raw_dataset = dataset.get(y_names[0]).tolist()\n",
        "\n",
        "print(\"Number of (raw) documents:\", len(raw_dataset))\n",
        "print(\"Labels:\", y_names)\n",
        "print(\"First label values:\", y[:5])"
      ],
      "execution_count": 1,
      "outputs": [
        {
          "output_type": "stream",
          "text": [
            "Mounted at /content/drive\n",
            "Number of (raw) documents: 1000\n",
            "Labels: ['negative', 'positive']\n",
            "First label values: [1 0 0 1 1]\n"
          ],
          "name": "stdout"
        }
      ]
    },
    {
      "cell_type": "code",
      "metadata": {
        "id": "MIq3NwLtmuQs",
        "colab": {
          "base_uri": "https://localhost:8080/"
        },
        "outputId": "398bb895-fee1-4e75-b46a-346a704c7216"
      },
      "source": [
        "# Text preprocessing\n",
        "\n",
        "import nltk\n",
        "from nltk.tokenize import regexp_tokenize\n",
        "from nltk.stem.snowball import SnowballStemmer\n",
        "from nltk.corpus import stopwords\n",
        "nltk.download(\"stopwords\")\n",
        "\n",
        "dataset = []\n",
        "stemmer = SnowballStemmer(\"english\")\n",
        "stopwords_en = stopwords.words(\"english\")\n",
        "\n",
        "for i in range(0, len(raw_dataset)):  \n",
        "  tokens = regexp_tokenize(str(raw_dataset[i]), r\"\\w+\")\n",
        "  stems = [stemmer.stem(token) for token in tokens]\n",
        "  words_no_stopwords = [word for word in stems if word not in stopwords_en]\n",
        "  document = ' '.join(words_no_stopwords)\n",
        "  dataset.append(document)"
      ],
      "execution_count": 2,
      "outputs": [
        {
          "output_type": "stream",
          "text": [
            "[nltk_data] Downloading package stopwords to /root/nltk_data...\n",
            "[nltk_data]   Unzipping corpora/stopwords.zip.\n"
          ],
          "name": "stdout"
        }
      ]
    },
    {
      "cell_type": "code",
      "metadata": {
        "id": "SbGTPsuPKO1K"
      },
      "source": [
        "# Feature extraction (converting text to vectors)\n",
        "\n",
        "from sklearn.feature_extraction.text import TfidfVectorizer\n",
        "\n",
        "vectorizer = TfidfVectorizer()\n",
        "X = vectorizer.fit_transform(dataset).toarray()"
      ],
      "execution_count": 3,
      "outputs": []
    },
    {
      "cell_type": "code",
      "metadata": {
        "colab": {
          "base_uri": "https://localhost:8080/"
        },
        "id": "cY6UrIZfAldi",
        "outputId": "39184f18-3d5b-4abb-ec09-90c73a8a0e4d"
      },
      "source": [
        "# Exploratory analysis\r\n",
        "\r\n",
        "vocabulary_size = X.shape[1]\r\n",
        "number_of_classes = len(y_names)\r\n",
        "\r\n",
        "print(\"Number of (preprocessed) documents:\", len(dataset))\r\n",
        "print(\"Vocabulary size:\", vocabulary_size)\r\n",
        "print(\"Number of classes:\", number_of_classes)\r\n",
        "print(\"Vectorized dataset (number of documents, vocabulary size):\", X.shape)"
      ],
      "execution_count": 4,
      "outputs": [
        {
          "output_type": "stream",
          "text": [
            "Number of (preprocessed) documents: 1000\n",
            "Vocabulary size: 1575\n",
            "Number of classes: 2\n",
            "Vectorized dataset (number of documents, vocabulary size): (1000, 1575)\n"
          ],
          "name": "stdout"
        }
      ]
    },
    {
      "cell_type": "code",
      "metadata": {
        "id": "DrPRDDJ6LBFz",
        "colab": {
          "base_uri": "https://localhost:8080/"
        },
        "outputId": "94864f87-f560-4266-b00a-e44a3c39104b"
      },
      "source": [
        "# Split training and testing sets\n",
        "\n",
        "from sklearn.model_selection import train_test_split\n",
        "\n",
        "X_train, X_test, y_train, y_test = train_test_split(X, y, test_size=0.2, random_state=0)\n",
        "\n",
        "print(\"Training set shape:\", X_train.shape)\n",
        "print(\"Test set shape:\", X_test.shape)"
      ],
      "execution_count": 5,
      "outputs": [
        {
          "output_type": "stream",
          "text": [
            "Training set shape: (800, 1575)\n",
            "Test set shape: (200, 1575)\n"
          ],
          "name": "stdout"
        }
      ]
    },
    {
      "cell_type": "code",
      "metadata": {
        "id": "rTWjLavHW-UO",
        "colab": {
          "base_uri": "https://localhost:8080/"
        },
        "outputId": "f37733fc-0b56-43e1-eb17-6593f792f6a7"
      },
      "source": [
        "# Create model\n",
        "\n",
        "from keras.models import Sequential\n",
        "from keras.layers import Dense\n",
        "from keras.layers import Dropout\n",
        "\n",
        "model = Sequential()\n",
        "model.add(Dense(10, input_dim=vocabulary_size, activation=\"relu\"))\n",
        "#model.add(Dropout(0.5))\n",
        "#model.add(Dense(8, activation=\"relu\"))\n",
        "#model.add(Dropout(0.5))\n",
        "model.add(Dense(1, activation=\"sigmoid\"))\n",
        "\n",
        "model.compile(loss=\"binary_crossentropy\", optimizer=\"adam\", metrics=[\"accuracy\"])\n",
        "\n",
        "model.summary()"
      ],
      "execution_count": 6,
      "outputs": [
        {
          "output_type": "stream",
          "text": [
            "Model: \"sequential\"\n",
            "_________________________________________________________________\n",
            "Layer (type)                 Output Shape              Param #   \n",
            "=================================================================\n",
            "dense (Dense)                (None, 10)                15760     \n",
            "_________________________________________________________________\n",
            "dense_1 (Dense)              (None, 1)                 11        \n",
            "=================================================================\n",
            "Total params: 15,771\n",
            "Trainable params: 15,771\n",
            "Non-trainable params: 0\n",
            "_________________________________________________________________\n"
          ],
          "name": "stdout"
        }
      ]
    },
    {
      "cell_type": "code",
      "metadata": {
        "colab": {
          "base_uri": "https://localhost:8080/",
          "height": 312
        },
        "id": "o1eLtDW8A3aL",
        "outputId": "3121d6f2-2567-489e-eed0-f8528a506ff2"
      },
      "source": [
        "# Plot model\r\n",
        "\r\n",
        "from keras.utils.vis_utils import plot_model\r\n",
        "\r\n",
        "plot_model(model, show_shapes=True, show_layer_names=True)"
      ],
      "execution_count": 7,
      "outputs": [
        {
          "output_type": "execute_result",
          "data": {
            "image/png": "[encoded data removed]",
            "text/plain": [
              "<IPython.core.display.Image object>"
            ]
          },
          "metadata": {
            "tags": []
          },
          "execution_count": 7
        }
      ]
    },
    {
      "cell_type": "code",
      "metadata": {
        "id": "ofEmLrKYaqvy",
        "colab": {
          "base_uri": "https://localhost:8080/"
        },
        "outputId": "02c422c0-d99a-452c-f396-eee567930fc7"
      },
      "source": [
        "# Fit model\n",
        "\n",
        "from keras.callbacks import EarlyStopping\n",
        "\n",
        "es_callback = EarlyStopping(monitor='val_loss', patience=3)\n",
        "\n",
        "history = model.fit(X_train, y_train, validation_data=(X_test, y_test), epochs=75, batch_size=10, callbacks=[es_callback])"
      ],
      "execution_count": 8,
      "outputs": [
        {
          "output_type": "stream",
          "text": [
            "Epoch 1/75\n",
            "80/80 [==============================] - 0s 3ms/step - loss: 0.6918 - accuracy: 0.5188 - val_loss: 0.6875 - val_accuracy: 0.6700\n",
            "Epoch 2/75\n",
            "80/80 [==============================] - 0s 1ms/step - loss: 0.6730 - accuracy: 0.7887 - val_loss: 0.6705 - val_accuracy: 0.7150\n",
            "Epoch 3/75\n",
            "80/80 [==============================] - 0s 1ms/step - loss: 0.6316 - accuracy: 0.8875 - val_loss: 0.6398 - val_accuracy: 0.7450\n",
            "Epoch 4/75\n",
            "80/80 [==============================] - 0s 1ms/step - loss: 0.5677 - accuracy: 0.9187 - val_loss: 0.6043 - val_accuracy: 0.7600\n",
            "Epoch 5/75\n",
            "80/80 [==============================] - 0s 1ms/step - loss: 0.4961 - accuracy: 0.9312 - val_loss: 0.5688 - val_accuracy: 0.7650\n",
            "Epoch 6/75\n",
            "80/80 [==============================] - 0s 2ms/step - loss: 0.4265 - accuracy: 0.9463 - val_loss: 0.5377 - val_accuracy: 0.7750\n",
            "Epoch 7/75\n",
            "80/80 [==============================] - 0s 1ms/step - loss: 0.3649 - accuracy: 0.9538 - val_loss: 0.5118 - val_accuracy: 0.7700\n",
            "Epoch 8/75\n",
            "80/80 [==============================] - 0s 1ms/step - loss: 0.3125 - accuracy: 0.9575 - val_loss: 0.4919 - val_accuracy: 0.7750\n",
            "Epoch 9/75\n",
            "80/80 [==============================] - 0s 1ms/step - loss: 0.2699 - accuracy: 0.9625 - val_loss: 0.4779 - val_accuracy: 0.7700\n",
            "Epoch 10/75\n",
            "80/80 [==============================] - 0s 1ms/step - loss: 0.2342 - accuracy: 0.9688 - val_loss: 0.4691 - val_accuracy: 0.7700\n",
            "Epoch 11/75\n",
            "80/80 [==============================] - 0s 1ms/step - loss: 0.2057 - accuracy: 0.9750 - val_loss: 0.4607 - val_accuracy: 0.7750\n",
            "Epoch 12/75\n",
            "80/80 [==============================] - 0s 1ms/step - loss: 0.1813 - accuracy: 0.9775 - val_loss: 0.4566 - val_accuracy: 0.7850\n",
            "Epoch 13/75\n",
            "80/80 [==============================] - 0s 1ms/step - loss: 0.1615 - accuracy: 0.9812 - val_loss: 0.4542 - val_accuracy: 0.7850\n",
            "Epoch 14/75\n",
            "80/80 [==============================] - 0s 1ms/step - loss: 0.1445 - accuracy: 0.9812 - val_loss: 0.4518 - val_accuracy: 0.7850\n",
            "Epoch 15/75\n",
            "80/80 [==============================] - 0s 1ms/step - loss: 0.1300 - accuracy: 0.9875 - val_loss: 0.4534 - val_accuracy: 0.7900\n",
            "Epoch 16/75\n",
            "80/80 [==============================] - 0s 1ms/step - loss: 0.1179 - accuracy: 0.9887 - val_loss: 0.4548 - val_accuracy: 0.7850\n",
            "Epoch 17/75\n",
            "80/80 [==============================] - 0s 1ms/step - loss: 0.1078 - accuracy: 0.9900 - val_loss: 0.4570 - val_accuracy: 0.7900\n"
          ],
          "name": "stdout"
        }
      ]
    },
    {
      "cell_type": "code",
      "metadata": {
        "colab": {
          "base_uri": "https://localhost:8080/"
        },
        "id": "7JimycoMZCBS",
        "outputId": "47318234-e234-4404-83bc-7a82b45481e1"
      },
      "source": [
        "# Evaluate model\n",
        "\n",
        "loss, accuracy = model.evaluate(X_train, y_train, verbose=False)\n",
        "print(\"Training Accuracy: {:.4f}\".format(accuracy))\n",
        "\n",
        "loss, accuracy = model.evaluate(X_test, y_test, verbose=False)\n",
        "print(\"Testing Accuracy:  {:.4f}\".format(accuracy))"
      ],
      "execution_count": 9,
      "outputs": [
        {
          "output_type": "stream",
          "text": [
            "Training Accuracy: 0.9912\n",
            "Testing Accuracy:  0.7900\n"
          ],
          "name": "stdout"
        }
      ]
    },
    {
      "cell_type": "code",
      "metadata": {
        "colab": {
          "base_uri": "https://localhost:8080/",
          "height": 354
        },
        "id": "-PBqFPFjiz9j",
        "outputId": "94d83fc5-8364-4698-a51b-4a1f215d0e33"
      },
      "source": [
        "# Plot loss and accuracy for the training and testing data \n",
        "\n",
        "import matplotlib.pyplot as plt\n",
        "\n",
        "def plot_history(history):\n",
        "  acc = history.history[\"accuracy\"]\n",
        "  val_acc = history.history[\"val_accuracy\"]\n",
        "  loss = history.history[\"loss\"]\n",
        "  val_loss = history.history[\"val_loss\"]\n",
        "  x = range(1, len(acc) + 1)\n",
        "  plt.style.use(\"ggplot\")\n",
        "  plt.figure(figsize=(12, 5))\n",
        "\n",
        "  plt.subplot(1, 2, 1)\n",
        "  plt.plot(x, acc, label=\"Training\")\n",
        "  plt.plot(x, val_acc, label=\"Validation\")\n",
        "  plt.title(\"Accuracy\")\n",
        "  plt.xlabel(\"epochs\")\n",
        "  plt.ylabel(\"accuracy\")\n",
        "  plt.legend()\n",
        "  \n",
        "  plt.subplot(1, 2, 2)\n",
        "  plt.plot(x, loss, label=\"Training\")\n",
        "  plt.plot(x, val_loss, label=\"Validation\")\n",
        "  plt.title(\"Loss\")\n",
        "  plt.legend()\n",
        "  plt.xlabel(\"epochs\")\n",
        "  plt.ylabel(\"loss\")\n",
        "\n",
        "plot_history(history)"
      ],
      "execution_count": 14,
      "outputs": [
        {
          "output_type": "display_data",
          "data": {
            "image/png": "[encoded data removed]",
            "text/plain": [
              "<Figure size 864x360 with 2 Axes>"
            ]
          },
          "metadata": {
            "tags": []
          }
        }
      ]
    },
    {
      "cell_type": "code",
      "metadata": {
        "colab": {
          "base_uri": "https://localhost:8080/"
        },
        "id": "k26JvC7MlEER",
        "outputId": "947d2591-6b56-4ccf-b814-3d2f0ae0b532"
      },
      "source": [
        "# Predict unseen data\n",
        "\n",
        "unseen_sentence = input(\"Enter a sentence: \")\n",
        "X_unseen = vectorizer.transform([unseen_sentence]).toarray()\n",
        "\n",
        "y_unseen = np.argmax(model.predict(X_unseen), axis=-1) # Equivalent to: y_unseen = model.predict_classes(X_unseen)\n",
        "print(\"The pedicted class for that sentence is:\", y_names[y_unseen[0]])"
      ],
      "execution_count": null,
      "outputs": [
        {
          "output_type": "stream",
          "text": [
            "Enter a sentence: This is very bad\n",
            "The pedicted class for that sentence is: negative\n"
          ],
          "name": "stdout"
        }
      ]
    },
    {
      "cell_type": "code",
      "metadata": {
        "id": "DDlfmA3cSDJ3"
      },
      "source": [
        "# Savel model\r\n",
        "\r\n",
        "import h5py\r\n",
        "\r\n",
        "model_structure = model.to_json()\r\n",
        "\r\n",
        "with open(\"sentiment_analysis_model.json\", \"w\") as json_file:\r\n",
        "  json_file.write(model_structure)\r\n",
        "\r\n",
        "model.save_weights(\"sentiment_analysis_weights.h5\")"
      ],
      "execution_count": 15,
      "outputs": []
    },
    {
      "cell_type": "code",
      "metadata": {
        "colab": {
          "base_uri": "https://localhost:8080/"
        },
        "id": "eveDqSLsB3EB",
        "outputId": "f38bd928-ffdb-4e1c-b4f1-90fa050c5ba3"
      },
      "source": [
        "# Load model\r\n",
        "\r\n",
        "from keras.models import model_from_json\r\n",
        "\r\n",
        "with open(\"sentiment_analysis_model.json\", \"r\") as json_file:\r\n",
        "  loaded_model = model_from_json(json_file.read())\r\n",
        "\r\n",
        "loaded_model.load_weights(\"sentiment_analysis_weights.h5\")\r\n",
        "\r\n",
        "loaded_model.compile(loss=\"binary_crossentropy\", optimizer=\"adam\", metrics=[\"accuracy\"])\r\n",
        "\r\n",
        "loss, accuracy = loaded_model.evaluate(X_train, y_train, verbose=False)\r\n",
        "print(\"Training Accuracy: {:.4f}\".format(accuracy))\r\n",
        "\r\n",
        "loss, accuracy = loaded_model.evaluate(X_test, y_test, verbose=False)\r\n",
        "print(\"Testing Accuracy:  {:.4f}\".format(accuracy))"
      ],
      "execution_count": 16,
      "outputs": [
        {
          "output_type": "stream",
          "text": [
            "Training Accuracy: 0.9912\n",
            "Testing Accuracy:  0.7900\n"
          ],
          "name": "stdout"
        }
      ]
    }
  ]
}