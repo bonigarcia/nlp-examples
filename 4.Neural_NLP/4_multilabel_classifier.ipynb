{
  "nbformat": 4,
  "nbformat_minor": 0,
  "metadata": {
    "colab": {
      "name": "4_multilabel_classifier.ipynb",
      "provenance": [],
      "collapsed_sections": []
    },
    "kernelspec": {
      "display_name": "Python 3",
      "name": "python3"
    }
  },
  "cells": [
    {
      "cell_type": "markdown",
      "metadata": {
        "id": "EiENgdmnk1Ly"
      },
      "source": [
        "**Multilabel classifier**"
      ]
    },
    {
      "cell_type": "code",
      "metadata": {
        "colab": {
          "base_uri": "https://localhost:8080/"
        },
        "id": "NwmyCVIzJoJ3",
        "outputId": "94cc5c3b-0c18-44c1-b6de-2f07a992c3d8"
      },
      "source": [
        "# Load dataset\n",
        "\n",
        "from google.colab import drive\n",
        "\n",
        "drive.mount(\"/content/drive\")\n",
        "\n",
        "# Experimental Data for Question Classification (Cognitive Computation Group, University of Pennsylvania)\n",
        "# https://cogcomp.seas.upenn.edu/Data/QA/QC/\n",
        "train_data = open('/content/drive/My Drive/data/questions/training_data.txt', 'r+')\n",
        "test_data = open('/content/drive/My Drive/data/questions/test_dataset.txt', 'r+')"
      ],
      "execution_count": 1,
      "outputs": [
        {
          "output_type": "stream",
          "text": [
            "Mounted at /content/drive\n"
          ],
          "name": "stdout"
        }
      ]
    },
    {
      "cell_type": "code",
      "metadata": {
        "id": "H2Z8twu7mknH",
        "colab": {
          "base_uri": "https://localhost:8080/"
        },
        "outputId": "a4d2f36a-3374-4e87-99cc-058864ef489f"
      },
      "source": [
        "# Define train and test dataset\r\n",
        "\r\n",
        "import pandas as pd\r\n",
        "\r\n",
        "train = pd.DataFrame(train_data.readlines(), columns = ['Question'])\r\n",
        "test = pd.DataFrame(test_data.readlines(), columns = ['Question'])\r\n",
        "\r\n",
        "train['QType'] = train.Question.apply(lambda x: x.split(' ', 1)[0])\r\n",
        "train['Question'] = train.Question.apply(lambda x: x.split(' ', 1)[1])\r\n",
        "train['QType-Coarse'] = train.QType.apply(lambda x: x.split(':')[0])\r\n",
        "train['QType-Fine'] = train.QType.apply(lambda x: x.split(':')[1])\r\n",
        "test['QType'] = test.Question.apply(lambda x: x.split(' ', 1)[0])\r\n",
        "test['Question'] = test.Question.apply(lambda x: x.split(' ', 1)[1])\r\n",
        "test['QType-Coarse'] = test.QType.apply(lambda x: x.split(':')[0])\r\n",
        "test['QType-Fine'] = test.QType.apply(lambda x: x.split(':')[1])\r\n",
        "\r\n",
        "train.pop('QType')\r\n",
        "train.pop('QType-Fine')\r\n",
        "test.pop('QType')\r\n",
        "test.pop('QType-Fine')\r\n",
        "\r\n",
        "train_dataset = train.Question.tolist()\r\n",
        "test_dataset = test.Question.tolist()\r\n",
        "\r\n",
        "print(\"Number of (raw) train documents:\", len(train_dataset))\r\n",
        "print(\"Number of (raw) test documents:\", len(test_dataset))"
      ],
      "execution_count": 2,
      "outputs": [
        {
          "output_type": "stream",
          "text": [
            "Number of (raw) train documents: 5452\n",
            "Number of (raw) test documents: 500\n"
          ],
          "name": "stdout"
        }
      ]
    },
    {
      "cell_type": "code",
      "metadata": {
        "id": "DrPRDDJ6LBFz",
        "colab": {
          "base_uri": "https://localhost:8080/"
        },
        "outputId": "c20b2edf-cded-46f0-8da7-2ea81263a14a"
      },
      "source": [
        "# Define labels\n",
        "\n",
        "import numpy as np\n",
        "from keras.utils import np_utils\n",
        "from sklearn.preprocessing import LabelEncoder\n",
        "\n",
        "y_names = np.unique(np.array(train['QType-Coarse']))\n",
        "\n",
        "le = LabelEncoder()\n",
        "le.fit(pd.Series(train['QType-Coarse'].tolist() + test['QType-Coarse'].tolist()).values)\n",
        "train['QType-Coarse'] = le.transform(train['QType-Coarse'].values)\n",
        "test['QType-Coarse'] = le.transform(test['QType-Coarse'].values)\n",
        "\n",
        "y_train = np_utils.to_categorical(train['QType-Coarse'], train['QType-Coarse'].nunique())\n",
        "y_test = np_utils.to_categorical(test['QType-Coarse'], train['QType-Coarse'].nunique())\n",
        "\n",
        "print(\"Labels:\", y_names)"
      ],
      "execution_count": 3,
      "outputs": [
        {
          "output_type": "stream",
          "text": [
            "Labels: ['ABBR' 'DESC' 'ENTY' 'HUM' 'LOC' 'NUM']\n"
          ],
          "name": "stdout"
        }
      ]
    },
    {
      "cell_type": "code",
      "metadata": {
        "id": "MIq3NwLtmuQs",
        "colab": {
          "base_uri": "https://localhost:8080/"
        },
        "outputId": "a639d069-3d88-4d8c-b62c-02274966531e"
      },
      "source": [
        "# Text preprocessing\n",
        "\n",
        "import nltk\n",
        "from nltk.tokenize import regexp_tokenize\n",
        "from nltk.stem.snowball import SnowballStemmer\n",
        "from nltk.corpus import stopwords\n",
        "nltk.download(\"stopwords\")\n",
        "\n",
        "def preprocess(raw_dataset):\n",
        "  dataset = []\n",
        "  stemmer = SnowballStemmer(\"english\")\n",
        "  stopwords_en = stopwords.words(\"english\")\n",
        "\n",
        "  for i in range(0, len(raw_dataset)):\n",
        "    tokens = regexp_tokenize(str(raw_dataset[i]), r\"\\w+\")\n",
        "    stems = [stemmer.stem(token) for token in tokens]\n",
        "    words_no_stopwords = [word for word in stems if word not in stopwords_en]\n",
        "    document = ' '.join(words_no_stopwords)\n",
        "    dataset.append(document)\n",
        "  \n",
        "  return dataset"
      ],
      "execution_count": 4,
      "outputs": [
        {
          "output_type": "stream",
          "text": [
            "[nltk_data] Downloading package stopwords to /root/nltk_data...\n",
            "[nltk_data]   Unzipping corpora/stopwords.zip.\n"
          ],
          "name": "stdout"
        }
      ]
    },
    {
      "cell_type": "code",
      "metadata": {
        "id": "SbGTPsuPKO1K"
      },
      "source": [
        "# Feature extraction (converting text to vectors)\n",
        "\n",
        "from sklearn.feature_extraction.text import TfidfVectorizer\n",
        "\n",
        "vectorizer = TfidfVectorizer()\n",
        "\n",
        "preprocessed_train_dataset = preprocess(train_dataset)\n",
        "X_train = vectorizer.fit_transform(preprocessed_train_dataset).toarray()\n",
        "\n",
        "preprocessed_test_dataset = preprocess(test_dataset)\n",
        "X_test = vectorizer.transform(preprocessed_test_dataset).toarray()"
      ],
      "execution_count": 5,
      "outputs": []
    },
    {
      "cell_type": "code",
      "metadata": {
        "colab": {
          "base_uri": "https://localhost:8080/"
        },
        "id": "osfbqslSG5bl",
        "outputId": "c47fa008-66eb-463d-e7c8-191463826a1d"
      },
      "source": [
        "# Exploratory analysis\r\n",
        "\r\n",
        "vocabulary_size = X_train.shape[1]\r\n",
        "number_of_classes = len(y_names)\r\n",
        "\r\n",
        "print(\"Number of (preprocessed) train documents:\", len(preprocessed_train_dataset))\r\n",
        "print(\"Number of (preprocessed) test documents:\", len(preprocessed_test_dataset))\r\n",
        "print(\"Vocabulary size:\", vocabulary_size)\r\n",
        "print(\"Number of classes:\", number_of_classes)\r\n",
        "print(\"Vectorized train dataset (number of documents, vocabulary size):\", X_train.shape)\r\n",
        "print(\"Vectorized test dataset (number of documents, vocabulary size):\", X_test.shape)"
      ],
      "execution_count": 6,
      "outputs": [
        {
          "output_type": "stream",
          "text": [
            "Number of (preprocessed) train documents: 5452\n",
            "Number of (preprocessed) test documents: 500\n",
            "Vocabulary size: 6783\n",
            "Number of classes: 6\n",
            "Vectorized train dataset (number of documents, vocabulary size): (5452, 6783)\n",
            "Vectorized test dataset (number of documents, vocabulary size): (500, 6783)\n"
          ],
          "name": "stdout"
        }
      ]
    },
    {
      "cell_type": "code",
      "metadata": {
        "id": "rTWjLavHW-UO",
        "colab": {
          "base_uri": "https://localhost:8080/"
        },
        "outputId": "83511498-31ca-4de9-ad7b-35b8b72dcf6f"
      },
      "source": [
        "# Create model\n",
        "\n",
        "from keras.models import Sequential\n",
        "from keras.layers import Dense\n",
        "from keras.layers import Dropout\n",
        "\n",
        "model = Sequential()\n",
        "model.add(Dense(128, activation=\"relu\", input_dim=vocabulary_size))\n",
        "model.add(Dropout(0.3))\n",
        "model.add(Dense(number_of_classes, activation='softmax'))\n",
        "\n",
        "model.compile(optimizer=\"adam\", loss=\"categorical_crossentropy\", metrics=[\"accuracy\"])\n",
        "\n",
        "model.summary()"
      ],
      "execution_count": 7,
      "outputs": [
        {
          "output_type": "stream",
          "text": [
            "Model: \"sequential\"\n",
            "_________________________________________________________________\n",
            "Layer (type)                 Output Shape              Param #   \n",
            "=================================================================\n",
            "dense (Dense)                (None, 128)               868352    \n",
            "_________________________________________________________________\n",
            "dropout (Dropout)            (None, 128)               0         \n",
            "_________________________________________________________________\n",
            "dense_1 (Dense)              (None, 6)                 774       \n",
            "=================================================================\n",
            "Total params: 869,126\n",
            "Trainable params: 869,126\n",
            "Non-trainable params: 0\n",
            "_________________________________________________________________\n"
          ],
          "name": "stdout"
        }
      ]
    },
    {
      "cell_type": "code",
      "metadata": {
        "colab": {
          "base_uri": "https://localhost:8080/",
          "height": 422
        },
        "id": "olzA8TEhHecw",
        "outputId": "d8dab5e0-6a7c-46aa-87e2-5b230388f5d9"
      },
      "source": [
        "# Plot model\r\n",
        "\r\n",
        "from keras.utils.vis_utils import plot_model\r\n",
        "\r\n",
        "plot_model(model, show_shapes=True, show_layer_names=True)"
      ],
      "execution_count": 8,
      "outputs": [
        {
          "output_type": "execute_result",
          "data": {
            "image/png": "[encoded data removed]",
            "text/plain": [
              "<IPython.core.display.Image object>"
            ]
          },
          "metadata": {
            "tags": []
          },
          "execution_count": 8
        }
      ]
    },
    {
      "cell_type": "code",
      "metadata": {
        "colab": {
          "base_uri": "https://localhost:8080/"
        },
        "id": "ofEmLrKYaqvy",
        "outputId": "8f9a9393-51f6-46ae-b680-c4023c82539f"
      },
      "source": [
        "# Fit model\n",
        "\n",
        "history = model.fit(X_train, y_train, validation_data=(X_test, y_test), epochs=10, batch_size=100)"
      ],
      "execution_count": 9,
      "outputs": [
        {
          "output_type": "stream",
          "text": [
            "Epoch 1/10\n",
            "55/55 [==============================] - 1s 16ms/step - loss: 1.7167 - accuracy: 0.3047 - val_loss: 1.6491 - val_accuracy: 0.3040\n",
            "Epoch 2/10\n",
            "55/55 [==============================] - 1s 13ms/step - loss: 1.4472 - accuracy: 0.5833 - val_loss: 1.4013 - val_accuracy: 0.5180\n",
            "Epoch 3/10\n",
            "55/55 [==============================] - 1s 13ms/step - loss: 1.0666 - accuracy: 0.8138 - val_loss: 1.1575 - val_accuracy: 0.7180\n",
            "Epoch 4/10\n",
            "55/55 [==============================] - 1s 13ms/step - loss: 0.7339 - accuracy: 0.8709 - val_loss: 1.0074 - val_accuracy: 0.7240\n",
            "Epoch 5/10\n",
            "55/55 [==============================] - 1s 13ms/step - loss: 0.5160 - accuracy: 0.9026 - val_loss: 0.9186 - val_accuracy: 0.7380\n",
            "Epoch 6/10\n",
            "55/55 [==============================] - 1s 13ms/step - loss: 0.3745 - accuracy: 0.9321 - val_loss: 0.8762 - val_accuracy: 0.7400\n",
            "Epoch 7/10\n",
            "55/55 [==============================] - 1s 14ms/step - loss: 0.2860 - accuracy: 0.9463 - val_loss: 0.8716 - val_accuracy: 0.7360\n",
            "Epoch 8/10\n",
            "55/55 [==============================] - 1s 13ms/step - loss: 0.2214 - accuracy: 0.9626 - val_loss: 0.8770 - val_accuracy: 0.7340\n",
            "Epoch 9/10\n",
            "55/55 [==============================] - 1s 13ms/step - loss: 0.1752 - accuracy: 0.9692 - val_loss: 0.8691 - val_accuracy: 0.7320\n",
            "Epoch 10/10\n",
            "55/55 [==============================] - 1s 13ms/step - loss: 0.1431 - accuracy: 0.9789 - val_loss: 0.8843 - val_accuracy: 0.7300\n"
          ],
          "name": "stdout"
        }
      ]
    },
    {
      "cell_type": "code",
      "metadata": {
        "colab": {
          "base_uri": "https://localhost:8080/"
        },
        "id": "7JimycoMZCBS",
        "outputId": "2f545897-014a-4ebd-fb52-b8e8e87c5c30"
      },
      "source": [
        "# Evaluate model\n",
        "\n",
        "loss, accuracy = model.evaluate(X_train, y_train, verbose=False)\n",
        "print(\"Training Accuracy: {:.4f}\".format(accuracy))\n",
        "\n",
        "loss, accuracy = model.evaluate(X_test, y_test, verbose=False)\n",
        "print(\"Testing Accuracy:  {:.4f}\".format(accuracy))"
      ],
      "execution_count": 10,
      "outputs": [
        {
          "output_type": "stream",
          "text": [
            "Training Accuracy: 0.9866\n",
            "Testing Accuracy:  0.7300\n"
          ],
          "name": "stdout"
        }
      ]
    },
    {
      "cell_type": "code",
      "metadata": {
        "colab": {
          "base_uri": "https://localhost:8080/",
          "height": 354
        },
        "id": "-PBqFPFjiz9j",
        "outputId": "fbe70557-6956-4b05-bfca-63cb7e70247e"
      },
      "source": [
        "# Plot loss and accuracy for the training and testing data \n",
        "\n",
        "import matplotlib.pyplot as plt\n",
        "\n",
        "def plot_history(history):\n",
        "  acc = history.history[\"accuracy\"]\n",
        "  val_acc = history.history[\"val_accuracy\"]\n",
        "  loss = history.history[\"loss\"]\n",
        "  val_loss = history.history[\"val_loss\"]\n",
        "  x = range(1, len(acc) + 1)\n",
        "  plt.style.use(\"ggplot\")\n",
        "  plt.figure(figsize=(12, 5))\n",
        "\n",
        "  plt.subplot(1, 2, 1)\n",
        "  plt.plot(x, acc, label=\"Training\")\n",
        "  plt.plot(x, val_acc, label=\"Validation\")\n",
        "  plt.title(\"Accuracy\")\n",
        "  plt.xlabel(\"epochs\")\n",
        "  plt.ylabel(\"accuracy\")\n",
        "  plt.legend()\n",
        "  \n",
        "  plt.subplot(1, 2, 2)\n",
        "  plt.plot(x, loss, label=\"Training\")\n",
        "  plt.plot(x, val_loss, label=\"Validation\")\n",
        "  plt.title(\"Loss\")\n",
        "  plt.legend()\n",
        "  plt.xlabel(\"epochs\")\n",
        "  plt.ylabel(\"loss\")\n",
        "\n",
        "plot_history(history)"
      ],
      "execution_count": 11,
      "outputs": [
        {
          "output_type": "display_data",
          "data": {
            "image/png": "[encoded data removed]",
            "text/plain": [
              "<Figure size 864x360 with 2 Axes>"
            ]
          },
          "metadata": {
            "tags": []
          }
        }
      ]
    },
    {
      "cell_type": "code",
      "metadata": {
        "colab": {
          "base_uri": "https://localhost:8080/"
        },
        "id": "k26JvC7MlEER",
        "outputId": "3f88a9b4-bf90-4918-e9a5-1b26a96e4d7c"
      },
      "source": [
        "# Predict unseen data\n",
        "unseen_sentence = input(\"Enter a question: \")\n",
        "X_unseen = vectorizer.transform([unseen_sentence]).toarray()\n",
        "y_unseen = np.argmax(model.predict(X_unseen), axis=-1) # Equivalent to: y_unseen = model.predict_classes(X_unseen)\n",
        "\n",
        "print(\"Possible classes:\", y_names)\n",
        "print(\"The pedicted class for that question is:\", y_unseen)\n",
        "for i in y_unseen:\n",
        "  print(\"\\t\", y_names[i])"
      ],
      "execution_count": null,
      "outputs": [
        {
          "output_type": "stream",
          "text": [
            "Enter a question: The students are working hard\n",
            "Possible classes: ['ABBR' 'DESC' 'ENTY' 'HUM' 'LOC' 'NUM']\n",
            "The pedicted class for that question is: [3]\n",
            "\t HUM\n"
          ],
          "name": "stdout"
        }
      ]
    },
    {
      "cell_type": "code",
      "metadata": {
        "id": "GNSbQv_ERx_l"
      },
      "source": [
        "# Savel model\r\n",
        "\r\n",
        "import h5py\r\n",
        "\r\n",
        "model_structure = model.to_json()\r\n",
        "\r\n",
        "with open(\"multilabel_classifier_model.json\", \"w\") as json_file:\r\n",
        "  json_file.write(model_structure)\r\n",
        "\r\n",
        "model.save_weights(\"multilabel_classifier_weights.h5\")"
      ],
      "execution_count": null,
      "outputs": []
    },
    {
      "cell_type": "code",
      "metadata": {
        "colab": {
          "base_uri": "https://localhost:8080/"
        },
        "id": "D-I9D6wlH4fk",
        "outputId": "eead1603-fcef-47cb-fc31-f1496e9ad7f3"
      },
      "source": [
        "# Load model\r\n",
        "\r\n",
        "from keras.models import model_from_json\r\n",
        "\r\n",
        "with open(\"multilabel_classifier_model.json\", \"r\") as json_file:\r\n",
        "  loaded_model = model_from_json(json_file.read())\r\n",
        "\r\n",
        "loaded_model.load_weights(\"multilabel_classifier_weights.h5\")\r\n",
        "\r\n",
        "loaded_model.compile(loss=\"categorical_crossentropy\", optimizer=\"adam\", metrics=[\"accuracy\"])\r\n",
        "\r\n",
        "loss, accuracy = loaded_model.evaluate(X_train, y_train, verbose=False)\r\n",
        "print(\"Training Accuracy: {:.4f}\".format(accuracy))\r\n",
        "\r\n",
        "loss, accuracy = loaded_model.evaluate(X_test, y_test, verbose=False)\r\n",
        "print(\"Testing Accuracy:  {:.4f}\".format(accuracy))"
      ],
      "execution_count": null,
      "outputs": [
        {
          "output_type": "stream",
          "text": [
            "Training Accuracy: 0.9892\n",
            "Testing Accuracy:  0.7300\n"
          ],
          "name": "stdout"
        }
      ]
    }
  ]
}