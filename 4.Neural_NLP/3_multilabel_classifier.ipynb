{
  "nbformat": 4,
  "nbformat_minor": 0,
  "metadata": {
    "colab": {
      "name": "3_multilabel_classifier.ipynb",
      "provenance": [],
      "collapsed_sections": []
    },
    "kernelspec": {
      "display_name": "Python 3",
      "name": "python3"
    }
  },
  "cells": [
    {
      "cell_type": "markdown",
      "metadata": {
        "id": "EiENgdmnk1Ly"
      },
      "source": [
        "**Multilabel classifier**"
      ]
    },
    {
      "cell_type": "code",
      "metadata": {
        "colab": {
          "base_uri": "https://localhost:8080/"
        },
        "id": "NwmyCVIzJoJ3",
        "outputId": "540f1afb-dff0-4889-8be0-75403e8f1dac"
      },
      "source": [
        "# Load dataset\n",
        "\n",
        "from google.colab import drive\n",
        "import pandas as pd\n",
        "\n",
        "drive.mount(\"/content/drive\")\n",
        "\n",
        "# Experimental Data for Question Classification (Cognitive Computation Group, University of Pennsylvania)\n",
        "# https://cogcomp.seas.upenn.edu/Data/QA/QC/\n",
        "train_data = open('/content/drive/My Drive/data/questions/training_data.txt', 'r+')\n",
        "test_data = open('/content/drive/My Drive/data/questions/test_dataset.txt', 'r+')"
      ],
      "execution_count": null,
      "outputs": [
        {
          "output_type": "stream",
          "text": [
            "Drive already mounted at /content/drive; to attempt to forcibly remount, call drive.mount(\"/content/drive\", force_remount=True).\n"
          ],
          "name": "stdout"
        }
      ]
    },
    {
      "cell_type": "code",
      "metadata": {
        "id": "H2Z8twu7mknH"
      },
      "source": [
        "# Define train and test dataset\r\n",
        "\r\n",
        "train = pd.DataFrame(train_data.readlines(), columns = ['Question'])\r\n",
        "test = pd.DataFrame(test_data.readlines(), columns = ['Question'])\r\n",
        "\r\n",
        "train['QType'] = train.Question.apply(lambda x: x.split(' ', 1)[0])\r\n",
        "train['Question'] = train.Question.apply(lambda x: x.split(' ', 1)[1])\r\n",
        "train['QType-Coarse'] = train.QType.apply(lambda x: x.split(':')[0])\r\n",
        "train['QType-Fine'] = train.QType.apply(lambda x: x.split(':')[1])\r\n",
        "test['QType'] = test.Question.apply(lambda x: x.split(' ', 1)[0])\r\n",
        "test['Question'] = test.Question.apply(lambda x: x.split(' ', 1)[1])\r\n",
        "test['QType-Coarse'] = test.QType.apply(lambda x: x.split(':')[0])\r\n",
        "test['QType-Fine'] = test.QType.apply(lambda x: x.split(':')[1])\r\n",
        "\r\n",
        "train.pop('QType')\r\n",
        "train.pop('QType-Fine')\r\n",
        "test.pop('QType')\r\n",
        "test.pop('QType-Fine')\r\n",
        "\r\n",
        "train_dataset = train.Question.tolist()\r\n",
        "test_dataset = test.Question.tolist()"
      ],
      "execution_count": null,
      "outputs": []
    },
    {
      "cell_type": "code",
      "metadata": {
        "id": "DrPRDDJ6LBFz",
        "colab": {
          "base_uri": "https://localhost:8080/"
        },
        "outputId": "7ffc9ae3-cd8c-4e0b-eb78-d34b7c6cf021"
      },
      "source": [
        "# Define labels\n",
        "\n",
        "import numpy as np\n",
        "from keras.utils import np_utils\n",
        "from sklearn.preprocessing import LabelEncoder\n",
        "\n",
        "y_names = np.unique(np.array(train['QType-Coarse']))\n",
        "\n",
        "le = LabelEncoder()\n",
        "le.fit(pd.Series(train['QType-Coarse'].tolist() + test['QType-Coarse'].tolist()).values)\n",
        "train['QType-Coarse'] = le.transform(train['QType-Coarse'].values)\n",
        "test['QType-Coarse'] = le.transform(test['QType-Coarse'].values)\n",
        "\n",
        "y_train = np_utils.to_categorical(train['QType-Coarse'], train['QType-Coarse'].nunique())\n",
        "y_test = np_utils.to_categorical(test['QType-Coarse'], train['QType-Coarse'].nunique())\n",
        "\n",
        "print(\"Labels:\", y_names)"
      ],
      "execution_count": null,
      "outputs": [
        {
          "output_type": "stream",
          "text": [
            "Labels: ['ABBR' 'DESC' 'ENTY' 'HUM' 'LOC' 'NUM']\n"
          ],
          "name": "stdout"
        }
      ]
    },
    {
      "cell_type": "code",
      "metadata": {
        "id": "MIq3NwLtmuQs",
        "colab": {
          "base_uri": "https://localhost:8080/"
        },
        "outputId": "43406f79-1b24-4151-d86b-69e16eb29414"
      },
      "source": [
        "# Text preprocessing\n",
        "\n",
        "import nltk\n",
        "from nltk.tokenize import regexp_tokenize\n",
        "from nltk.stem.snowball import SnowballStemmer\n",
        "from nltk.corpus import stopwords\n",
        "nltk.download(\"stopwords\")\n",
        "\n",
        "def preprocess(raw_dataset):\n",
        "  dataset = []\n",
        "  stemmer = SnowballStemmer(\"english\")\n",
        "  stopwords_en = stopwords.words(\"english\")\n",
        "\n",
        "  for i in range(0, len(raw_dataset)):\n",
        "    tokens = regexp_tokenize(str(raw_dataset[i]), r\"\\w+\")\n",
        "    stems = [stemmer.stem(token) for token in tokens]\n",
        "    words_no_stopwords = [word for word in stems if word not in stopwords_en]\n",
        "    document = ' '.join(words_no_stopwords)\n",
        "    dataset.append(document)\n",
        "  \n",
        "  return dataset"
      ],
      "execution_count": null,
      "outputs": [
        {
          "output_type": "stream",
          "text": [
            "[nltk_data] Downloading package stopwords to /root/nltk_data...\n",
            "[nltk_data]   Unzipping corpora/stopwords.zip.\n"
          ],
          "name": "stdout"
        }
      ]
    },
    {
      "cell_type": "code",
      "metadata": {
        "id": "SbGTPsuPKO1K"
      },
      "source": [
        "# Feature extraction (converting text to vectors)\n",
        "\n",
        "from sklearn.feature_extraction.text import TfidfVectorizer\n",
        "\n",
        "vectorizer = TfidfVectorizer()\n",
        "\n",
        "preprocessed_train_dataset = preprocess(train_dataset)\n",
        "X_train = vectorizer.fit_transform(preprocessed_train_dataset).toarray()\n",
        "\n",
        "preprocessed_train_test = preprocess(test_dataset)\n",
        "X_test = vectorizer.transform(preprocessed_train_test).toarray()"
      ],
      "execution_count": null,
      "outputs": []
    },
    {
      "cell_type": "code",
      "metadata": {
        "id": "rTWjLavHW-UO",
        "colab": {
          "base_uri": "https://localhost:8080/"
        },
        "outputId": "275955e1-4059-4361-9517-af39e2c1557c"
      },
      "source": [
        "# Define the keras model\n",
        "\n",
        "from keras.models import Sequential\n",
        "from keras.layers import Dense\n",
        "from keras.layers import Dropout\n",
        "\n",
        "model = Sequential()\n",
        "model.add(Dense(128, activation='relu', input_dim=X_train.shape[1]))\n",
        "model.add(Dropout(0.3))\n",
        "model.add(Dense(6, activation='softmax'))\n",
        "\n",
        "model.compile(optimizer='adam', loss='categorical_crossentropy', metrics=['accuracy'])\n",
        "\n",
        "model.summary()"
      ],
      "execution_count": null,
      "outputs": [
        {
          "output_type": "stream",
          "text": [
            "Model: \"sequential\"\n",
            "_________________________________________________________________\n",
            "Layer (type)                 Output Shape              Param #   \n",
            "=================================================================\n",
            "dense (Dense)                (None, 128)               868352    \n",
            "_________________________________________________________________\n",
            "dense_1 (Dense)              (None, 6)                 774       \n",
            "=================================================================\n",
            "Total params: 869,126\n",
            "Trainable params: 869,126\n",
            "Non-trainable params: 0\n",
            "_________________________________________________________________\n"
          ],
          "name": "stdout"
        }
      ]
    },
    {
      "cell_type": "code",
      "metadata": {
        "colab": {
          "base_uri": "https://localhost:8080/"
        },
        "id": "ofEmLrKYaqvy",
        "outputId": "6c583e4e-8c2f-4149-c286-3a9513ef50e6"
      },
      "source": [
        "# Fit the keras model\n",
        "\n",
        "history = model.fit(X_train, y_train, validation_data=(X_test, y_test), epochs=10, batch_size=100)"
      ],
      "execution_count": null,
      "outputs": [
        {
          "output_type": "stream",
          "text": [
            "Epoch 1/10\n",
            "55/55 [==============================] - 1s 17ms/step - loss: 1.7135 - accuracy: 0.3912 - val_loss: 1.6332 - val_accuracy: 0.3580\n",
            "Epoch 2/10\n",
            "55/55 [==============================] - 1s 13ms/step - loss: 1.3898 - accuracy: 0.7021 - val_loss: 1.3477 - val_accuracy: 0.6860\n",
            "Epoch 3/10\n",
            "55/55 [==============================] - 1s 14ms/step - loss: 0.9419 - accuracy: 0.8571 - val_loss: 1.1055 - val_accuracy: 0.7100\n",
            "Epoch 4/10\n",
            "55/55 [==============================] - 1s 14ms/step - loss: 0.5942 - accuracy: 0.9032 - val_loss: 0.9661 - val_accuracy: 0.7280\n",
            "Epoch 5/10\n",
            "55/55 [==============================] - 1s 14ms/step - loss: 0.3911 - accuracy: 0.9331 - val_loss: 0.9052 - val_accuracy: 0.7320\n",
            "Epoch 6/10\n",
            "55/55 [==============================] - 1s 13ms/step - loss: 0.2724 - accuracy: 0.9543 - val_loss: 0.8799 - val_accuracy: 0.7340\n",
            "Epoch 7/10\n",
            "55/55 [==============================] - 1s 14ms/step - loss: 0.1976 - accuracy: 0.9705 - val_loss: 0.8845 - val_accuracy: 0.7260\n",
            "Epoch 8/10\n",
            "55/55 [==============================] - 1s 14ms/step - loss: 0.1490 - accuracy: 0.9800 - val_loss: 0.8994 - val_accuracy: 0.7200\n",
            "Epoch 9/10\n",
            "55/55 [==============================] - 1s 14ms/step - loss: 0.1160 - accuracy: 0.9877 - val_loss: 0.9187 - val_accuracy: 0.7220\n",
            "Epoch 10/10\n",
            "55/55 [==============================] - 1s 14ms/step - loss: 0.0926 - accuracy: 0.9912 - val_loss: 0.9311 - val_accuracy: 0.7160\n"
          ],
          "name": "stdout"
        }
      ]
    },
    {
      "cell_type": "code",
      "metadata": {
        "colab": {
          "base_uri": "https://localhost:8080/"
        },
        "id": "7JimycoMZCBS",
        "outputId": "77f4e26f-c05f-47b4-d31f-ab20b7cf2268"
      },
      "source": [
        "# Evaluate model\n",
        "\n",
        "loss, accuracy = model.evaluate(X_train, y_train, verbose=False)\n",
        "print(\"Training Accuracy: {:.4f}\".format(accuracy))\n",
        "\n",
        "loss, accuracy = model.evaluate(X_test, y_test, verbose=False)\n",
        "print(\"Testing Accuracy:  {:.4f}\".format(accuracy))"
      ],
      "execution_count": null,
      "outputs": [
        {
          "output_type": "stream",
          "text": [
            "Training Accuracy: 0.9947\n",
            "Testing Accuracy:  0.7160\n"
          ],
          "name": "stdout"
        }
      ]
    },
    {
      "cell_type": "code",
      "metadata": {
        "colab": {
          "base_uri": "https://localhost:8080/",
          "height": 337
        },
        "id": "-PBqFPFjiz9j",
        "outputId": "5aebad90-973a-41cc-e8c7-12f8790328ea"
      },
      "source": [
        "# Plot loss and accuracy for the training and testing data \n",
        "\n",
        "import matplotlib.pyplot as plt\n",
        "\n",
        "plt.style.use('ggplot')\n",
        "\n",
        "def plot_history(history):\n",
        "  acc = history.history['accuracy']\n",
        "  val_acc = history.history['val_accuracy']\n",
        "  loss = history.history['loss']\n",
        "  val_loss = history.history['val_loss']\n",
        "  x = range(0, len(acc))\n",
        "  \n",
        "  plt.figure(figsize=(12, 5))\n",
        "  plt.subplot(1, 2, 1)\n",
        "  plt.plot(x, acc, 'b', label='Training accuracy')\n",
        "  plt.plot(x, val_acc, 'r', label='Validation accuracy')\n",
        "  plt.title('Training and validation accuracy')\n",
        "  plt.legend()\n",
        "  plt.subplot(1, 2, 2)\n",
        "  plt.plot(x, loss, 'b', label='Training loss')\n",
        "  plt.plot(x, val_loss, 'r', label='Validation loss')\n",
        "  plt.title('Training and validation loss')\n",
        "  plt.legend()\n",
        "\n",
        "plot_history(history)"
      ],
      "execution_count": null,
      "outputs": [
        {
          "output_type": "display_data",
          "data": {
            "image/png": "[encoded data removed]",
            "text/plain": [
              "<Figure size 864x360 with 2 Axes>"
            ]
          },
          "metadata": {
            "tags": []
          }
        }
      ]
    },
    {
      "cell_type": "code",
      "metadata": {
        "colab": {
          "base_uri": "https://localhost:8080/"
        },
        "id": "k26JvC7MlEER",
        "outputId": "7d4c4769-1acb-465f-eda0-85695e4aedec"
      },
      "source": [
        "# Predict unseen data\n",
        "unseen_sentence = input(\"Enter a question: \")\n",
        "X_unseen = vectorizer.transform([unseen_sentence]).toarray()\n",
        "y_unseen = np.argmax(model.predict(X_unseen), axis=-1) # Equivalent to: y_unseen = model.predict_classes(X_unseen)\n",
        "\n",
        "print(\"Possible classes:\", y_names)\n",
        "print(\"The pedicted class for that question is:\", y_unseen)\n",
        "for i in y_unseen:\n",
        "  print(\"\\t\", y_names[i])"
      ],
      "execution_count": null,
      "outputs": [
        {
          "output_type": "stream",
          "text": [
            "Enter a question: The population of Spain is working hard currently\n",
            "Possible classes: ['ABBR' 'DESC' 'ENTY' 'HUM' 'LOC' 'NUM']\n",
            "The pedicted class for that question is: [3]\n",
            "\t HUM\n"
          ],
          "name": "stdout"
        }
      ]
    },
    {
      "cell_type": "code",
      "metadata": {
        "id": "GNSbQv_ERx_l"
      },
      "source": [
        "# Savel model\r\n",
        "\r\n",
        "import h5py\r\n",
        "\r\n",
        "model_structure = model.to_json()\r\n",
        "\r\n",
        "with open(\"multilabel_classifier_model.json\", \"w\") as json_file:\r\n",
        "  json_file.write(model_structure)\r\n",
        "\r\n",
        "model.save_weights(\"multilabel_classifier_weights.h5\")"
      ],
      "execution_count": null,
      "outputs": []
    }
  ]
}